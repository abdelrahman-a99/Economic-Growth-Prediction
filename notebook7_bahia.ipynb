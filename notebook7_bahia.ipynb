{
 "cells": [
  {
   "cell_type": "code",
   "execution_count": 1,
   "metadata": {},
   "outputs": [],
   "source": [
    "import rasterio\n",
    "from rasterio.mask import mask\n",
    "from shapely.geometry import box\n",
    "import numpy as np\n",
    "import pandas as pd"
   ]
  },
  {
   "cell_type": "code",
   "execution_count": 2,
   "metadata": {},
   "outputs": [
    {
     "name": "stdout",
     "output_type": "stream",
     "text": [
      "Bahia boundary found!\n",
      "   shapeName shapeISO                  shapeID shapeGroup shapeType  \\\n",
      "15     Bahia    BR-BA  14911670B19428866735507        BRA      ADM1   \n",
      "\n",
      "                                             geometry  \n",
      "15  POLYGON ((-41.36067 -8.77411, -41.36371 -8.775...  \n"
     ]
    }
   ],
   "source": [
    "# check if bahia exist in the geoboundries\n",
    "\n",
    "import geopandas as gpd\n",
    "\n",
    "# Path to the geojson file\n",
    "boundary_file = r\"D:\\NU\\semester_5\\data_analysis\\project\\edited_project\\geoBoundaries-BRA-ADM1-all\\geoBoundaries-BRA-ADM1.geojson\"\n",
    "\n",
    "# Load the GeoJSON file\n",
    "brazil_boundaries = gpd.read_file(boundary_file)\n",
    "\n",
    "city_name_column = \"shapeName\"\n",
    "\n",
    "bahia_boundary = brazil_boundaries[brazil_boundaries[city_name_column] == \"Bahia\"]\n",
    "\n",
    "# Check if the boundary is found\n",
    "if not bahia_boundary.empty:\n",
    "    print(\"Bahia boundary found!\")\n",
    "else:\n",
    "    raise ValueError(\"Bahia boundary not found. Check the city name or column.\")\n",
    "\n",
    "bahia_boundary.to_file(\"bahia_boundary.geojson\", driver=\"GeoJSON\")\n",
    "\n",
    "# Print the coordinates of the boundary (or process further as needed)\n",
    "print(bahia_boundary)"
   ]
  },
  {
   "cell_type": "code",
   "execution_count": 6,
   "metadata": {},
   "outputs": [
    {
     "name": "stdout",
     "output_type": "stream",
     "text": [
      "Raster Bounds: BoundingBox(left=-60.00208333335, bottom=-64.99791718665, right=59.99791762665001, top=0.00208333335)\n",
      "bahia Bounds: [-46.60349344 -18.31554034 -37.35288249  -8.56929603]\n"
     ]
    },
    {
     "name": "stderr",
     "output_type": "stream",
     "text": [
      "C:\\Users\\PC\\AppData\\Local\\Temp\\ipykernel_19600\\2750384159.py:23: DeprecationWarning: The 'unary_union' attribute is deprecated, use the 'union_all()' method instead.\n",
      "  if not raster_bounds.intersects(bahia.unary_union):\n"
     ]
    },
    {
     "name": "stdout",
     "output_type": "stream",
     "text": [
      "Extracted data for bahia saved to D:\\NU\\semester_5\\data_analysis\\project\\edited_project\\viirs_bahia_3_dataset.csv\n"
     ]
    }
   ],
   "source": [
    "# Filepaths\n",
    "\n",
    "# raster_file = r\"D:\\NU\\semester_5\\data_analysis\\project\\edited_project\\SVDNB_npp_20200101-20200131_00N060W_vcmcfg_v10_c202002111500\\SVDNB_npp_20200101-20200131_00N060W_vcmcfg_v10_c202002111500.avg_rade9h.tif\"\n",
    "# raster_file = r\"D:\\NU\\semester_5\\data_analysis\\project\\edited_project\\SVDNB_npp_20200201-20200229_00N060W_vcmcfg_v10_c202003021200\\SVDNB_npp_20200201-20200229_00N060W_vcmcfg_v10_c202003021200.avg_rade9h.tif\"\n",
    "raster_file = r\"D:\\NU\\semester_5\\data_analysis\\project\\edited_project\\SVDNB_npp_20200301-20200331_00N060W_vcmcfg_v10_c202007042300\\SVDNB_npp_20200301-20200331_00N060W_vcmcfg_v10_c202007042300.avg_rade9h.tif\"\n",
    "\n",
    "bahia_boundary_file = r\"D:\\NU\\semester_5\\data_analysis\\project\\edited_project\\bahia_boundary.geojson\"\n",
    "\n",
    "# output_csv = r\"D:\\NU\\semester_5\\data_analysis\\project\\edited_project\\viirs_bahia_1_dataset.csv\"\n",
    "# output_csv = r\"D:\\NU\\semester_5\\data_analysis\\project\\edited_project\\viirs_bahia_2_dataset.csv\"\n",
    "output_csv = r\"D:\\NU\\semester_5\\data_analysis\\project\\edited_project\\viirs_bahia_3_dataset.csv\"\n",
    "\n",
    "# Load the Brasília boundary\n",
    "bahia = gpd.read_file(bahia_boundary_file)\n",
    "bahia = bahia.to_crs(epsg=4326)\n",
    "\n",
    "# Open the VIIRS raster file\n",
    "with rasterio.open(raster_file) as src:\n",
    "    raster_bounds = box(*src.bounds)\n",
    "    print(\"Raster Bounds:\", src.bounds)\n",
    "    print(\"bahia Bounds:\", bahia.total_bounds)\n",
    "\n",
    "    if not raster_bounds.intersects(bahia.unary_union):\n",
    "        raise ValueError(\"bahia's boundary does not overlap with the raster extent.\")\n",
    "\n",
    "    # Clip the VIIRS raster using Brasília boundary\n",
    "    bahia_geom_list = [feature[\"geometry\"] for feature in bahia.__geo_interface__[\"features\"]]\n",
    "    clipped_raster, clipped_transform = mask(src, bahia_geom_list, crop=True)\n",
    "\n",
    "# Extract Raster Values for Brasília\n",
    "light_intensity = clipped_raster[0]\n",
    "rows, cols = np.where(~np.isnan(light_intensity))\n",
    "values = light_intensity[rows, cols]\n",
    "x_coords, y_coords = rasterio.transform.xy(clipped_transform, rows, cols)\n",
    "\n",
    "# Create a DataFrame\n",
    "data = pd.DataFrame({\n",
    "    'longitude': x_coords,\n",
    "    'latitude': y_coords,\n",
    "    'light_intensity': values\n",
    "})\n",
    "\n",
    "# Save the data to a CSV file\n",
    "data.to_csv(output_csv, index=False)\n",
    "print(f\"Extracted data for bahia saved to {output_csv}\")"
   ]
  },
  {
   "cell_type": "code",
   "execution_count": 1,
   "metadata": {},
   "outputs": [],
   "source": [
    "import pandas as pd"
   ]
  },
  {
   "cell_type": "code",
   "execution_count": 2,
   "metadata": {},
   "outputs": [
    {
     "data": {
      "text/html": [
       "<div>\n",
       "<style scoped>\n",
       "    .dataframe tbody tr th:only-of-type {\n",
       "        vertical-align: middle;\n",
       "    }\n",
       "\n",
       "    .dataframe tbody tr th {\n",
       "        vertical-align: top;\n",
       "    }\n",
       "\n",
       "    .dataframe thead th {\n",
       "        text-align: right;\n",
       "    }\n",
       "</style>\n",
       "<table border=\"1\" class=\"dataframe\">\n",
       "  <thead>\n",
       "    <tr style=\"text-align: right;\">\n",
       "      <th></th>\n",
       "      <th>longitude</th>\n",
       "      <th>latitude</th>\n",
       "      <th>light_intensity</th>\n",
       "    </tr>\n",
       "  </thead>\n",
       "  <tbody>\n",
       "    <tr>\n",
       "      <th>0</th>\n",
       "      <td>-46.604167</td>\n",
       "      <td>-8.570833</td>\n",
       "      <td>0.0</td>\n",
       "    </tr>\n",
       "    <tr>\n",
       "      <th>1</th>\n",
       "      <td>-46.600000</td>\n",
       "      <td>-8.570833</td>\n",
       "      <td>0.0</td>\n",
       "    </tr>\n",
       "    <tr>\n",
       "      <th>2</th>\n",
       "      <td>-46.595833</td>\n",
       "      <td>-8.570833</td>\n",
       "      <td>0.0</td>\n",
       "    </tr>\n",
       "    <tr>\n",
       "      <th>3</th>\n",
       "      <td>-46.591667</td>\n",
       "      <td>-8.570833</td>\n",
       "      <td>0.0</td>\n",
       "    </tr>\n",
       "    <tr>\n",
       "      <th>4</th>\n",
       "      <td>-46.587500</td>\n",
       "      <td>-8.570833</td>\n",
       "      <td>0.0</td>\n",
       "    </tr>\n",
       "  </tbody>\n",
       "</table>\n",
       "</div>"
      ],
      "text/plain": [
       "   longitude  latitude  light_intensity\n",
       "0 -46.604167 -8.570833              0.0\n",
       "1 -46.600000 -8.570833              0.0\n",
       "2 -46.595833 -8.570833              0.0\n",
       "3 -46.591667 -8.570833              0.0\n",
       "4 -46.587500 -8.570833              0.0"
      ]
     },
     "execution_count": 2,
     "metadata": {},
     "output_type": "execute_result"
    }
   ],
   "source": [
    "output_csv = r\"D:\\NU\\semester_5\\data_analysis\\project\\edited_project\\viirs_bahia_1_dataset.csv\"\n",
    "\n",
    "df = pd.read_csv(output_csv)\n",
    "df.head()"
   ]
  },
  {
   "cell_type": "code",
   "execution_count": 3,
   "metadata": {},
   "outputs": [
    {
     "data": {
      "text/plain": [
       "array([[<Axes: title={'center': 'longitude'}>,\n",
       "        <Axes: title={'center': 'latitude'}>],\n",
       "       [<Axes: title={'center': 'light_intensity'}>, <Axes: >]],\n",
       "      dtype=object)"
      ]
     },
     "execution_count": 3,
     "metadata": {},
     "output_type": "execute_result"
    },
    {
     "data": {
      "image/png": "[encoded data removed]",
      "text/plain": [
       "<Figure size 640x480 with 4 Axes>"
      ]
     },
     "metadata": {},
     "output_type": "display_data"
    }
   ],
   "source": [
    "df.hist()\n"
   ]
  },
  {
   "cell_type": "code",
   "execution_count": null,
   "metadata": {},
   "outputs": [],
   "source": []
  }
 ],
 "metadata": {
  "kernelspec": {
   "display_name": "Python 3",
   "language": "python",
   "name": "python3"
  },
  "language_info": {
   "codemirror_mode": {
    "name": "ipython",
    "version": 3
   },
   "file_extension": ".py",
   "mimetype": "text/x-python",
   "name": "python",
   "nbconvert_exporter": "python",
   "pygments_lexer": "ipython3",
   "version": "3.12.4"
  }
 },
 "nbformat": 4,
 "nbformat_minor": 2
}
