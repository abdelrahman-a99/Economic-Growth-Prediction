{
 "cells": [
  {
   "cell_type": "code",
   "execution_count": 2,
   "metadata": {},
   "outputs": [],
   "source": [
    "import rasterio\n",
    "from rasterio.mask import mask\n",
    "from shapely.geometry import box\n",
    "import numpy as np\n",
    "import pandas as pd"
   ]
  },
  {
   "cell_type": "code",
   "execution_count": 3,
   "metadata": {},
   "outputs": [
    {
     "name": "stdout",
     "output_type": "stream",
     "text": [
      "Index(['shapeName', 'shapeISO', 'shapeID', 'shapeGroup', 'shapeType',\n",
      "       'geometry'],\n",
      "      dtype='object')\n",
      "Rio de Janeiro boundary found!\n",
      "         shapeName shapeISO                  shapeID shapeGroup shapeType  \\\n",
      "22  Rio de Jeneiro    BR-RJ  14911670B85657526756793        BRA      ADM1   \n",
      "\n",
      "                                             geometry  \n",
      "22  POLYGON ((-44.78723 -22.42088, -44.78871 -22.4...  \n"
     ]
    }
   ],
   "source": [
    "# check if rio exist in the geoboundries\n",
    "\n",
    "import geopandas as gpd\n",
    "\n",
    "# Path to the geojson file\n",
    "boundary_file = r\"D:\\NU\\semester_5\\data_analysis\\project\\edited_project\\geoBoundaries-BRA-ADM1-all\\geoBoundaries-BRA-ADM1.geojson\"\n",
    "\n",
    "# Load the GeoJSON file\n",
    "brazil_boundaries = gpd.read_file(boundary_file)\n",
    "\n",
    "# Inspect the available columns to find the city name column\n",
    "print(brazil_boundaries.columns)\n",
    "\n",
    "brazil_boundaries\n",
    "\n",
    "city_name_column = \"shapeName\"\n",
    "\n",
    "rio_boundary = brazil_boundaries[brazil_boundaries[city_name_column] == \"Rio de Jeneiro\"]\n",
    "\n",
    "# Check if the boundary is found\n",
    "if not rio_boundary.empty:\n",
    "    print(\"Rio de Janeiro boundary found!\")\n",
    "else:\n",
    "    raise ValueError(\"Rio de Janeiro boundary not found. Check the city name or column.\")\n",
    "\n",
    "rio_boundary.to_file(\"rio_boundary.geojson\", driver=\"GeoJSON\")\n",
    "\n",
    "# Print the coordinates of the boundary (or process further as needed)\n",
    "print(rio_boundary)"
   ]
  },
  {
   "cell_type": "code",
   "execution_count": 13,
   "metadata": {},
   "outputs": [
    {
     "name": "stdout",
     "output_type": "stream",
     "text": [
      "Raster Bounds: BoundingBox(left=-60.00208333335, bottom=-64.99791718665, right=59.99791762665001, top=0.00208333335)\n",
      "rio Bounds: [-44.92543978 -23.44057219 -40.96355631 -20.83745118]\n"
     ]
    },
    {
     "name": "stderr",
     "output_type": "stream",
     "text": [
      "C:\\Users\\PC\\AppData\\Local\\Temp\\ipykernel_17912\\1849445727.py:23: DeprecationWarning: The 'unary_union' attribute is deprecated, use the 'union_all()' method instead.\n",
      "  if not raster_bounds.intersects(rio.unary_union):\n"
     ]
    },
    {
     "name": "stdout",
     "output_type": "stream",
     "text": [
      "Extracted data for rio saved to D:\\NU\\semester_5\\data_analysis\\project\\edited_project\\viirs_rio_3_dataset.csv\n"
     ]
    }
   ],
   "source": [
    "# Filepaths\n",
    "\n",
    "# raster_file = r\"D:\\NU\\semester_5\\data_analysis\\project\\edited_project\\SVDNB_npp_20200101-20200131_00N060W_vcmcfg_v10_c202002111500\\SVDNB_npp_20200101-20200131_00N060W_vcmcfg_v10_c202002111500.avg_rade9h.tif\"\n",
    "# raster_file = r\"D:\\NU\\semester_5\\data_analysis\\project\\edited_project\\SVDNB_npp_20200201-20200229_00N060W_vcmcfg_v10_c202003021200\\SVDNB_npp_20200201-20200229_00N060W_vcmcfg_v10_c202003021200.avg_rade9h.tif\"\n",
    "raster_file = r\"D:\\NU\\semester_5\\data_analysis\\project\\edited_project\\SVDNB_npp_20200301-20200331_00N060W_vcmcfg_v10_c202007042300\\SVDNB_npp_20200301-20200331_00N060W_vcmcfg_v10_c202007042300.avg_rade9h.tif\"\n",
    "\n",
    "rio_boundary_file = r\"D:\\NU\\semester_5\\data_analysis\\project\\edited_project\\rio_boundary.geojson\"\n",
    "\n",
    "# output_csv = r\"D:\\NU\\semester_5\\data_analysis\\project\\edited_project\\viirs_rio_1_dataset.csv\"\n",
    "# output_csv = r\"D:\\NU\\semester_5\\data_analysis\\project\\edited_project\\viirs_rio_2_dataset.csv\"\n",
    "output_csv = r\"D:\\NU\\semester_5\\data_analysis\\project\\edited_project\\viirs_rio_3_dataset.csv\"\n",
    "\n",
    "# Load the Brasília boundary\n",
    "rio = gpd.read_file(rio_boundary_file)\n",
    "rio = rio.to_crs(epsg=4326)\n",
    "\n",
    "# Open the VIIRS raster file\n",
    "with rasterio.open(raster_file) as src:\n",
    "    raster_bounds = box(*src.bounds)\n",
    "    print(\"Raster Bounds:\", src.bounds)\n",
    "    print(\"rio Bounds:\", rio.total_bounds)\n",
    "\n",
    "    if not raster_bounds.intersects(rio.unary_union):\n",
    "        raise ValueError(\"rio's boundary does not overlap with the raster extent.\")\n",
    "\n",
    "    # Clip the VIIRS raster file\n",
    "    rio_geom_list = [feature[\"geometry\"] for feature in rio.__geo_interface__[\"features\"]]\n",
    "    clipped_raster, clipped_transform = mask(src, rio_geom_list, crop=True)\n",
    "\n",
    "# Extract Raster Values for Brasília\n",
    "light_intensity = clipped_raster[0]\n",
    "rows, cols = np.where(~np.isnan(light_intensity))\n",
    "values = light_intensity[rows, cols]\n",
    "x_coords, y_coords = rasterio.transform.xy(clipped_transform, rows, cols)\n",
    "\n",
    "# Create a DataFrame\n",
    "data = pd.DataFrame({\n",
    "    'longitude': x_coords,\n",
    "    'latitude': y_coords,\n",
    "    'light_intensity': values\n",
    "})\n",
    "\n",
    "# Save the data to a CSV file\n",
    "data.to_csv(output_csv, index=False)\n",
    "print(f\"Extracted data for rio saved to {output_csv}\")\n"
   ]
  },
  {
   "cell_type": "code",
   "execution_count": 3,
   "metadata": {},
   "outputs": [],
   "source": [
    "import pandas as pd"
   ]
  },
  {
   "cell_type": "code",
   "execution_count": 4,
   "metadata": {},
   "outputs": [
    {
     "data": {
      "text/html": [
       "<div>\n",
       "<style scoped>\n",
       "    .dataframe tbody tr th:only-of-type {\n",
       "        vertical-align: middle;\n",
       "    }\n",
       "\n",
       "    .dataframe tbody tr th {\n",
       "        vertical-align: top;\n",
       "    }\n",
       "\n",
       "    .dataframe thead th {\n",
       "        text-align: right;\n",
       "    }\n",
       "</style>\n",
       "<table border=\"1\" class=\"dataframe\">\n",
       "  <thead>\n",
       "    <tr style=\"text-align: right;\">\n",
       "      <th></th>\n",
       "      <th>longitude</th>\n",
       "      <th>latitude</th>\n",
       "      <th>light_intensity</th>\n",
       "    </tr>\n",
       "  </thead>\n",
       "  <tbody>\n",
       "    <tr>\n",
       "      <th>0</th>\n",
       "      <td>-44.925000</td>\n",
       "      <td>-20.8375</td>\n",
       "      <td>0.0</td>\n",
       "    </tr>\n",
       "    <tr>\n",
       "      <th>1</th>\n",
       "      <td>-44.920833</td>\n",
       "      <td>-20.8375</td>\n",
       "      <td>0.0</td>\n",
       "    </tr>\n",
       "    <tr>\n",
       "      <th>2</th>\n",
       "      <td>-44.916667</td>\n",
       "      <td>-20.8375</td>\n",
       "      <td>0.0</td>\n",
       "    </tr>\n",
       "    <tr>\n",
       "      <th>3</th>\n",
       "      <td>-44.912500</td>\n",
       "      <td>-20.8375</td>\n",
       "      <td>0.0</td>\n",
       "    </tr>\n",
       "    <tr>\n",
       "      <th>4</th>\n",
       "      <td>-44.908333</td>\n",
       "      <td>-20.8375</td>\n",
       "      <td>0.0</td>\n",
       "    </tr>\n",
       "  </tbody>\n",
       "</table>\n",
       "</div>"
      ],
      "text/plain": [
       "   longitude  latitude  light_intensity\n",
       "0 -44.925000  -20.8375              0.0\n",
       "1 -44.920833  -20.8375              0.0\n",
       "2 -44.916667  -20.8375              0.0\n",
       "3 -44.912500  -20.8375              0.0\n",
       "4 -44.908333  -20.8375              0.0"
      ]
     },
     "execution_count": 4,
     "metadata": {},
     "output_type": "execute_result"
    }
   ],
   "source": [
    "output_csv = r\"D:\\NU\\semester_5\\data_analysis\\project\\edited_project\\viirs_rio_1_dataset.csv\"\n",
    "\n",
    "df = pd.read_csv(output_csv)\n",
    "df.head()"
   ]
  },
  {
   "cell_type": "code",
   "execution_count": 11,
   "metadata": {},
   "outputs": [
    {
     "data": {
      "text/plain": [
       "array([[<Axes: title={'center': 'longitude'}>,\n",
       "        <Axes: title={'center': 'latitude'}>],\n",
       "       [<Axes: title={'center': 'light_intensity'}>, <Axes: >]],\n",
       "      dtype=object)"
      ]
     },
     "execution_count": 11,
     "metadata": {},
     "output_type": "execute_result"
    },
    {
     "data": {
      "image/png": "[encoded data removed]",
      "text/plain": [
       "<Figure size 640x480 with 4 Axes>"
      ]
     },
     "metadata": {},
     "output_type": "display_data"
    }
   ],
   "source": [
    "df.hist()\n"
   ]
  },
  {
   "cell_type": "code",
   "execution_count": null,
   "metadata": {},
   "outputs": [],
   "source": []
  }
 ],
 "metadata": {
  "kernelspec": {
   "display_name": "Python 3",
   "language": "python",
   "name": "python3"
  },
  "language_info": {
   "codemirror_mode": {
    "name": "ipython",
    "version": 3
   },
   "file_extension": ".py",
   "mimetype": "text/x-python",
   "name": "python",
   "nbconvert_exporter": "python",
   "pygments_lexer": "ipython3",
   "version": "3.12.4"
  }
 },
 "nbformat": 4,
 "nbformat_minor": 2
}
