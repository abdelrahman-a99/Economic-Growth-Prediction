{
 "cells": [
  {
   "cell_type": "code",
   "execution_count": 3,
   "metadata": {},
   "outputs": [],
   "source": [
    "import pandas as pd"
   ]
  },
  {
   "cell_type": "code",
   "execution_count": 2,
   "metadata": {},
   "outputs": [],
   "source": [
    "# Load VIIRS_cleaned data\n",
    "viirs_cleaned_agg_df = pd.read_csv('viirs_cleaned_dataset.csv')"
   ]
  },
  {
   "cell_type": "code",
   "execution_count": 3,
   "metadata": {},
   "outputs": [
    {
     "name": "stdout",
     "output_type": "stream",
     "text": [
      "   state  longitude   latitude  light_intensity  year  observations\n",
      "0  bahia      -46.6 -11.295833         0.340000  2020             3\n",
      "1  bahia      -46.6 -11.291667         0.240000  2020             3\n",
      "2  bahia      -46.6 -11.287500         0.303333  2020             3\n",
      "3  bahia      -46.6 -11.283333         0.296667  2020             3\n",
      "4  bahia      -46.6 -11.279167         0.290000  2020             2\n"
     ]
    }
   ],
   "source": [
    "# Aggregate data by state, longitude, and latitude\n",
    "viirs_aggregated = viirs_cleaned_agg_df.groupby(['state', 'longitude', 'latitude'], as_index=False).agg({\n",
    "    'light_intensity': 'mean',  # Average light intensity\n",
    "    # 'radiance_pct_change': 'mean',  # Average radiance percentage change\n",
    "    'year': 'first',  # Keep the year (same for the group)\n",
    "    'month': 'count'  # Count occurrences (should be 3 for Q1 2020)\n",
    "})\n",
    "\n",
    "# Rename columns for clarity\n",
    "viirs_aggregated.rename(columns={'month': 'observations'}, inplace=True)\n",
    "\n",
    "print(viirs_aggregated.head())\n"
   ]
  },
  {
   "cell_type": "code",
   "execution_count": 4,
   "metadata": {},
   "outputs": [],
   "source": [
    "viirs_aggregated.to_csv('viirs_cleaned_agg_dataset.csv', index=False)"
   ]
  },
  {
   "cell_type": "code",
   "execution_count": 4,
   "metadata": {},
   "outputs": [],
   "source": [
    "viirs_cleaned_test_df = pd.read_csv('viirs_cleaned_agg_dataset.csv')"
   ]
  },
  {
   "cell_type": "code",
   "execution_count": 6,
   "metadata": {},
   "outputs": [
    {
     "data": {
      "text/html": [
       "<div>\n",
       "<style scoped>\n",
       "    .dataframe tbody tr th:only-of-type {\n",
       "        vertical-align: middle;\n",
       "    }\n",
       "\n",
       "    .dataframe tbody tr th {\n",
       "        vertical-align: top;\n",
       "    }\n",
       "\n",
       "    .dataframe thead th {\n",
       "        text-align: right;\n",
       "    }\n",
       "</style>\n",
       "<table border=\"1\" class=\"dataframe\">\n",
       "  <thead>\n",
       "    <tr style=\"text-align: right;\">\n",
       "      <th></th>\n",
       "      <th>state</th>\n",
       "      <th>longitude</th>\n",
       "      <th>latitude</th>\n",
       "      <th>light_intensity</th>\n",
       "      <th>year</th>\n",
       "      <th>observations</th>\n",
       "    </tr>\n",
       "  </thead>\n",
       "  <tbody>\n",
       "    <tr>\n",
       "      <th>0</th>\n",
       "      <td>bahia</td>\n",
       "      <td>-46.6</td>\n",
       "      <td>-11.295833</td>\n",
       "      <td>0.340000</td>\n",
       "      <td>2020</td>\n",
       "      <td>3</td>\n",
       "    </tr>\n",
       "    <tr>\n",
       "      <th>1</th>\n",
       "      <td>bahia</td>\n",
       "      <td>-46.6</td>\n",
       "      <td>-11.291667</td>\n",
       "      <td>0.240000</td>\n",
       "      <td>2020</td>\n",
       "      <td>3</td>\n",
       "    </tr>\n",
       "    <tr>\n",
       "      <th>2</th>\n",
       "      <td>bahia</td>\n",
       "      <td>-46.6</td>\n",
       "      <td>-11.287500</td>\n",
       "      <td>0.303333</td>\n",
       "      <td>2020</td>\n",
       "      <td>3</td>\n",
       "    </tr>\n",
       "    <tr>\n",
       "      <th>3</th>\n",
       "      <td>bahia</td>\n",
       "      <td>-46.6</td>\n",
       "      <td>-11.283333</td>\n",
       "      <td>0.296667</td>\n",
       "      <td>2020</td>\n",
       "      <td>3</td>\n",
       "    </tr>\n",
       "    <tr>\n",
       "      <th>4</th>\n",
       "      <td>bahia</td>\n",
       "      <td>-46.6</td>\n",
       "      <td>-11.279167</td>\n",
       "      <td>0.290000</td>\n",
       "      <td>2020</td>\n",
       "      <td>2</td>\n",
       "    </tr>\n",
       "  </tbody>\n",
       "</table>\n",
       "</div>"
      ],
      "text/plain": [
       "   state  longitude   latitude  light_intensity  year  observations\n",
       "0  bahia      -46.6 -11.295833         0.340000  2020             3\n",
       "1  bahia      -46.6 -11.291667         0.240000  2020             3\n",
       "2  bahia      -46.6 -11.287500         0.303333  2020             3\n",
       "3  bahia      -46.6 -11.283333         0.296667  2020             3\n",
       "4  bahia      -46.6 -11.279167         0.290000  2020             2"
      ]
     },
     "execution_count": 6,
     "metadata": {},
     "output_type": "execute_result"
    }
   ],
   "source": [
    "viirs_cleaned_test_df.head()"
   ]
  },
  {
   "cell_type": "code",
   "execution_count": 8,
   "metadata": {},
   "outputs": [
    {
     "data": {
      "text/html": [
       "<div>\n",
       "<style scoped>\n",
       "    .dataframe tbody tr th:only-of-type {\n",
       "        vertical-align: middle;\n",
       "    }\n",
       "\n",
       "    .dataframe tbody tr th {\n",
       "        vertical-align: top;\n",
       "    }\n",
       "\n",
       "    .dataframe thead th {\n",
       "        text-align: right;\n",
       "    }\n",
       "</style>\n",
       "<table border=\"1\" class=\"dataframe\">\n",
       "  <thead>\n",
       "    <tr style=\"text-align: right;\">\n",
       "      <th></th>\n",
       "      <th>longitude</th>\n",
       "      <th>latitude</th>\n",
       "      <th>light_intensity</th>\n",
       "      <th>year</th>\n",
       "      <th>observations</th>\n",
       "    </tr>\n",
       "  </thead>\n",
       "  <tbody>\n",
       "    <tr>\n",
       "      <th>count</th>\n",
       "      <td>4.219479e+06</td>\n",
       "      <td>4.219479e+06</td>\n",
       "      <td>4.219479e+06</td>\n",
       "      <td>4219479.0</td>\n",
       "      <td>4.219479e+06</td>\n",
       "    </tr>\n",
       "    <tr>\n",
       "      <th>mean</th>\n",
       "      <td>-4.386095e+01</td>\n",
       "      <td>-1.596449e+01</td>\n",
       "      <td>9.672595e-01</td>\n",
       "      <td>2020.0</td>\n",
       "      <td>2.913716e+00</td>\n",
       "    </tr>\n",
       "    <tr>\n",
       "      <th>std</th>\n",
       "      <td>3.819068e+00</td>\n",
       "      <td>5.001738e+00</td>\n",
       "      <td>5.649924e+00</td>\n",
       "      <td>0.0</td>\n",
       "      <td>2.817345e-01</td>\n",
       "    </tr>\n",
       "    <tr>\n",
       "      <th>min</th>\n",
       "      <td>-5.313333e+01</td>\n",
       "      <td>-2.533750e+01</td>\n",
       "      <td>5.666667e-02</td>\n",
       "      <td>2020.0</td>\n",
       "      <td>1.000000e+00</td>\n",
       "    </tr>\n",
       "    <tr>\n",
       "      <th>25%</th>\n",
       "      <td>-4.712917e+01</td>\n",
       "      <td>-2.162083e+01</td>\n",
       "      <td>2.600000e-01</td>\n",
       "      <td>2020.0</td>\n",
       "      <td>3.000000e+00</td>\n",
       "    </tr>\n",
       "    <tr>\n",
       "      <th>50%</th>\n",
       "      <td>-4.317083e+01</td>\n",
       "      <td>-1.401667e+01</td>\n",
       "      <td>3.050000e-01</td>\n",
       "      <td>2020.0</td>\n",
       "      <td>3.000000e+00</td>\n",
       "    </tr>\n",
       "    <tr>\n",
       "      <th>75%</th>\n",
       "      <td>-4.057500e+01</td>\n",
       "      <td>-1.173333e+01</td>\n",
       "      <td>3.966667e-01</td>\n",
       "      <td>2020.0</td>\n",
       "      <td>3.000000e+00</td>\n",
       "    </tr>\n",
       "    <tr>\n",
       "      <th>max</th>\n",
       "      <td>-3.735417e+01</td>\n",
       "      <td>-8.570833e+00</td>\n",
       "      <td>2.819420e+03</td>\n",
       "      <td>2020.0</td>\n",
       "      <td>3.000000e+00</td>\n",
       "    </tr>\n",
       "  </tbody>\n",
       "</table>\n",
       "</div>"
      ],
      "text/plain": [
       "          longitude      latitude  light_intensity       year  observations\n",
       "count  4.219479e+06  4.219479e+06     4.219479e+06  4219479.0  4.219479e+06\n",
       "mean  -4.386095e+01 -1.596449e+01     9.672595e-01     2020.0  2.913716e+00\n",
       "std    3.819068e+00  5.001738e+00     5.649924e+00        0.0  2.817345e-01\n",
       "min   -5.313333e+01 -2.533750e+01     5.666667e-02     2020.0  1.000000e+00\n",
       "25%   -4.712917e+01 -2.162083e+01     2.600000e-01     2020.0  3.000000e+00\n",
       "50%   -4.317083e+01 -1.401667e+01     3.050000e-01     2020.0  3.000000e+00\n",
       "75%   -4.057500e+01 -1.173333e+01     3.966667e-01     2020.0  3.000000e+00\n",
       "max   -3.735417e+01 -8.570833e+00     2.819420e+03     2020.0  3.000000e+00"
      ]
     },
     "execution_count": 8,
     "metadata": {},
     "output_type": "execute_result"
    }
   ],
   "source": [
    "viirs_cleaned_test_df.describe()"
   ]
  },
  {
   "cell_type": "code",
   "execution_count": 9,
   "metadata": {},
   "outputs": [
    {
     "data": {
      "text/plain": [
       "1129"
      ]
     },
     "execution_count": 9,
     "metadata": {},
     "output_type": "execute_result"
    }
   ],
   "source": [
    "test = viirs_cleaned_test_df['observations'] == 1\n",
    "viirs_cleaned_test_df[test].value_counts().sum()"
   ]
  },
  {
   "cell_type": "code",
   "execution_count": 10,
   "metadata": {},
   "outputs": [
    {
     "data": {
      "text/plain": [
       "361816"
      ]
     },
     "execution_count": 10,
     "metadata": {},
     "output_type": "execute_result"
    }
   ],
   "source": [
    "test = viirs_cleaned_test_df['observations'] == 2\n",
    "viirs_cleaned_test_df[test].value_counts().sum()"
   ]
  },
  {
   "cell_type": "code",
   "execution_count": 11,
   "metadata": {},
   "outputs": [
    {
     "data": {
      "text/plain": [
       "3856534"
      ]
     },
     "execution_count": 11,
     "metadata": {},
     "output_type": "execute_result"
    }
   ],
   "source": [
    "test = viirs_cleaned_test_df['observations'] == 3\n",
    "viirs_cleaned_test_df[test].value_counts().sum()"
   ]
  }
 ],
 "metadata": {
  "kernelspec": {
   "display_name": "Python 3",
   "language": "python",
   "name": "python3"
  },
  "language_info": {
   "codemirror_mode": {
    "name": "ipython",
    "version": 3
   },
   "file_extension": ".py",
   "mimetype": "text/x-python",
   "name": "python",
   "nbconvert_exporter": "python",
   "pygments_lexer": "ipython3",
   "version": "3.12.4"
  }
 },
 "nbformat": 4,
 "nbformat_minor": 2
}
