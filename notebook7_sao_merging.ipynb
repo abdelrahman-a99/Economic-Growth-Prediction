{
 "cells": [
  {
   "cell_type": "code",
   "execution_count": 2,
   "metadata": {},
   "outputs": [],
   "source": [
    "import pandas as pd\n",
    "import os"
   ]
  },
  {
   "cell_type": "code",
   "execution_count": 2,
   "metadata": {},
   "outputs": [
    {
     "name": "stdout",
     "output_type": "stream",
     "text": [
      "Merged dataset saved to D:\\NU\\semester_5\\data_analysis\\project\\edited_project\\viirs_sao_merging_dataset.csv\n"
     ]
    }
   ],
   "source": [
    "# Path to the folder containing the CSV files\n",
    "csv_folder = r\"D:\\NU\\semester_5\\data_analysis\\project\\edited_project\"\n",
    "\n",
    "# Output file\n",
    "output_file = r\"D:\\NU\\semester_5\\data_analysis\\project\\edited_project\\viirs_sao_merging_dataset.csv\"\n",
    "\n",
    "# List of CSV files to merge (all files in the folder)\n",
    "csv_files = [\n",
    "    \"viirs_sao_1_dataset.csv\",\n",
    "    \"viirs_sao_2_dataset.csv\",\n",
    "    \"viirs_sao_3_dataset.csv\",\n",
    "]\n",
    "\n",
    "# Create an empty list to hold DataFrames\n",
    "dataframes = []\n",
    "\n",
    "# Loop through the files and read them\n",
    "for file in csv_files:\n",
    "    file_path = os.path.join(csv_folder, file)\n",
    "    df = pd.read_csv(file_path)\n",
    "\n",
    "    # Extract state, year, and month from the filename\n",
    "    parts = file.split(\"_\")\n",
    "    state = parts[1]  # The second part is the state\n",
    "    month = parts[2]  # The third part is the month\n",
    "\n",
    "    # Add columns for state, year, and month\n",
    "    df[\"state\"] = state\n",
    "    df[\"year\"] = 2020\n",
    "    df[\"month\"] = month\n",
    "\n",
    "    dataframes.append(df)\n",
    "\n",
    "# Concatenate all DataFrames\n",
    "merged_data = pd.concat(dataframes, ignore_index=True)\n",
    "\n",
    "# Save the merged dataset to a CSV file\n",
    "merged_data.to_csv(output_file, index=False)\n",
    "\n",
    "print(f\"Merged dataset saved to {output_file}\")"
   ]
  },
  {
   "cell_type": "code",
   "execution_count": 3,
   "metadata": {},
   "outputs": [
    {
     "name": "stdout",
     "output_type": "stream",
     "text": [
      "   longitude   latitude  light_intensity state  year  month\n",
      "0 -53.133333 -19.808333              0.0   sao  2020      1\n",
      "1 -53.129167 -19.808333              0.0   sao  2020      1\n",
      "2 -53.125000 -19.808333              0.0   sao  2020      1\n",
      "3 -53.120833 -19.808333              0.0   sao  2020      1\n",
      "4 -53.116667 -19.808333              0.0   sao  2020      1\n"
     ]
    }
   ],
   "source": [
    "df = pd.read_csv(r\"D:\\NU\\semester_5\\data_analysis\\project\\edited_project\\viirs_sao_merging_dataset.csv\")\n",
    "print(df.head())"
   ]
  },
  {
   "cell_type": "code",
   "execution_count": 4,
   "metadata": {},
   "outputs": [
    {
     "data": {
      "text/plain": [
       "0"
      ]
     },
     "execution_count": 4,
     "metadata": {},
     "output_type": "execute_result"
    }
   ],
   "source": [
    "df.duplicated().sum()"
   ]
  },
  {
   "cell_type": "code",
   "execution_count": null,
   "metadata": {},
   "outputs": [],
   "source": []
  }
 ],
 "metadata": {
  "kernelspec": {
   "display_name": "Python 3",
   "language": "python",
   "name": "python3"
  },
  "language_info": {
   "codemirror_mode": {
    "name": "ipython",
    "version": 3
   },
   "file_extension": ".py",
   "mimetype": "text/x-python",
   "name": "python",
   "nbconvert_exporter": "python",
   "pygments_lexer": "ipython3",
   "version": "3.12.4"
  }
 },
 "nbformat": 4,
 "nbformat_minor": 2
}
