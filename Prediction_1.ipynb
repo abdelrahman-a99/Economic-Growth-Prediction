{
 "cells": [
  {
   "cell_type": "code",
   "execution_count": 1,
   "metadata": {},
   "outputs": [],
   "source": [
    "import pandas as pd\n",
    "import numpy as np\n",
    "from sklearn.model_selection import train_test_split\n",
    "from sklearn.linear_model import LinearRegression\n",
    "from sklearn.metrics import mean_absolute_error, mean_squared_error, r2_score"
   ]
  },
  {
   "cell_type": "code",
   "execution_count": 2,
   "metadata": {},
   "outputs": [],
   "source": [
    "mergin_cleaned_df = pd.read_csv('merged_cleaned_agg_outliers_obs_datasets.csv')"
   ]
  },
  {
   "cell_type": "code",
   "execution_count": null,
   "metadata": {},
   "outputs": [
    {
     "name": "stdout",
     "output_type": "stream",
     "text": [
      "Error: No target variable ('GDP_growth') found in the dataset.\n"
     ]
    },
    {
     "ename": "ValueError",
     "evalue": "Target variable is required for prediction.",
     "output_type": "error",
     "traceback": [
      "\u001b[1;31m---------------------------------------------------------------------------\u001b[0m",
      "\u001b[1;31mValueError\u001b[0m                                Traceback (most recent call last)",
      "Cell \u001b[1;32mIn[3], line 5\u001b[0m\n\u001b[0;32m      3\u001b[0m \u001b[38;5;28;01mif\u001b[39;00m \u001b[38;5;124m'\u001b[39m\u001b[38;5;124mGDP_growth\u001b[39m\u001b[38;5;124m'\u001b[39m \u001b[38;5;129;01mnot\u001b[39;00m \u001b[38;5;129;01min\u001b[39;00m mergin_cleaned_df\u001b[38;5;241m.\u001b[39mcolumns:\n\u001b[0;32m      4\u001b[0m     \u001b[38;5;28mprint\u001b[39m(\u001b[38;5;124m\"\u001b[39m\u001b[38;5;124mError: No target variable (\u001b[39m\u001b[38;5;124m'\u001b[39m\u001b[38;5;124mGDP_growth\u001b[39m\u001b[38;5;124m'\u001b[39m\u001b[38;5;124m) found in the dataset.\u001b[39m\u001b[38;5;124m\"\u001b[39m)\n\u001b[1;32m----> 5\u001b[0m     \u001b[38;5;28;01mraise\u001b[39;00m \u001b[38;5;167;01mValueError\u001b[39;00m(\u001b[38;5;124m\"\u001b[39m\u001b[38;5;124mTarget variable is required for prediction.\u001b[39m\u001b[38;5;124m\"\u001b[39m)\n\u001b[0;32m      7\u001b[0m features \u001b[38;5;241m=\u001b[39m [\u001b[38;5;124m'\u001b[39m\u001b[38;5;124mradiance_pct_change\u001b[39m\u001b[38;5;124m'\u001b[39m, \u001b[38;5;124m'\u001b[39m\u001b[38;5;124mavg_d_kbps\u001b[39m\u001b[38;5;124m'\u001b[39m, \u001b[38;5;124m'\u001b[39m\u001b[38;5;124mavg_u_kbps\u001b[39m\u001b[38;5;124m'\u001b[39m]\n\u001b[0;32m      8\u001b[0m target \u001b[38;5;241m=\u001b[39m \u001b[38;5;124m'\u001b[39m\u001b[38;5;124mGDP_growth\u001b[39m\u001b[38;5;124m'\u001b[39m\n",
      "\u001b[1;31mValueError\u001b[0m: Target variable is required for prediction."
     ]
    }
   ],
   "source": [
    "# # Prediction Model: Linear Regression\n",
    "\n",
    "# if 'GDP_growth' not in mergin_cleaned_df.columns:\n",
    "#     print(\"Error: No target variable ('GDP_growth') found in the dataset.\")\n",
    "#     raise ValueError(\"Target variable is required for prediction.\")\n",
    "\n",
    "# features = ['radiance_pct_change', 'avg_d_kbps', 'avg_u_kbps']\n",
    "# target = 'GDP_growth'\n",
    "\n",
    "# for feature in features:\n",
    "#     if feature not in mergin_cleaned_df.columns:\n",
    "#         raise ValueError(f\"Feature '{feature}' is missing in the dataset.\")\n",
    "\n",
    "# X = mergin_cleaned_df[features]\n",
    "# y = mergin_cleaned_df[target]\n",
    "\n",
    "# X_train, X_test, y_train, y_test = train_test_split(X, y, test_size=0.2, random_state=42)\n",
    "\n",
    "# model = LinearRegression()\n",
    "# model.fit(X_train, y_train)\n",
    "\n",
    "# y_pred = model.predict(X_test)\n",
    "\n",
    "# mae = mean_absolute_error(y_test, y_pred)\n",
    "# mse = mean_squared_error(y_test, y_pred)\n",
    "# rmse = np.sqrt(mse)\n",
    "# r2 = r2_score(y_test, y_pred)\n",
    "\n",
    "# print(\"Model Performance:\")\n",
    "# print(f\"Mean Absolute Error (MAE): {mae:.2f}\")\n",
    "# print(f\"Mean Squared Error (MSE): {mse:.2f}\")\n",
    "# print(f\"Root Mean Squared Error (RMSE): {rmse:.2f}\")\n",
    "# print(f\"R-squared (R2): {r2:.2f}\")\n",
    "\n",
    "# coefficients = pd.DataFrame({\n",
    "#     'Feature': features,\n",
    "#     'Coefficient': model.coef_\n",
    "# })\n",
    "# print(\"\\nFeature Importance:\")\n",
    "# print(coefficients)"
   ]
  },
  {
   "cell_type": "code",
   "execution_count": 4,
   "metadata": {},
   "outputs": [
    {
     "name": "stdout",
     "output_type": "stream",
     "text": [
      "Model Performance:\n",
      "Mean Absolute Error (MAE): 453396.99\n",
      "Mean Squared Error (MSE): 1388935844771.60\n",
      "Root Mean Squared Error (RMSE): 1178531.22\n",
      "R-squared (R2): 0.23\n",
      "\n",
      "Feature Importance:\n",
      "           Feature   Coefficient\n",
      "0  light_intensity  23806.148989\n",
      "1       avg_d_kbps     10.375680\n"
     ]
    }
   ],
   "source": [
    "mergin_cleaned_df['Economic_Growth_Proxy'] = (\n",
    "    mergin_cleaned_df['avg_d_kbps'] * mergin_cleaned_df['devices']\n",
    ")\n",
    "\n",
    "features = ['light_intensity', 'avg_d_kbps']\n",
    "target = 'Economic_Growth_Proxy'\n",
    "\n",
    "X = mergin_cleaned_df[features]\n",
    "y = mergin_cleaned_df[target]\n",
    "\n",
    "X_train, X_test, y_train, y_test = train_test_split(X, y, test_size=0.2, random_state=42)\n",
    "\n",
    "model = LinearRegression()\n",
    "model.fit(X_train, y_train)\n",
    "\n",
    "y_pred = model.predict(X_test)\n",
    "\n",
    "mae = mean_absolute_error(y_test, y_pred)\n",
    "mse = mean_squared_error(y_test, y_pred)\n",
    "rmse = np.sqrt(mse)\n",
    "r2 = r2_score(y_test, y_pred)\n",
    "\n",
    "print(\"Model Performance:\")\n",
    "print(f\"Mean Absolute Error (MAE): {mae:.2f}\")\n",
    "print(f\"Mean Squared Error (MSE): {mse:.2f}\")\n",
    "print(f\"Root Mean Squared Error (RMSE): {rmse:.2f}\")\n",
    "print(f\"R-squared (R2): {r2:.2f}\")\n",
    "\n",
    "coefficients = pd.DataFrame({\n",
    "    'Feature': features,\n",
    "    'Coefficient': model.coef_\n",
    "})\n",
    "print(\"\\nFeature Importance:\")\n",
    "print(coefficients)"
   ]
  },
  {
   "cell_type": "code",
   "execution_count": null,
   "metadata": {},
   "outputs": [],
   "source": []
  }
 ],
 "metadata": {
  "kernelspec": {
   "display_name": "Python 3",
   "language": "python",
   "name": "python3"
  },
  "language_info": {
   "codemirror_mode": {
    "name": "ipython",
    "version": 3
   },
   "file_extension": ".py",
   "mimetype": "text/x-python",
   "name": "python",
   "nbconvert_exporter": "python",
   "pygments_lexer": "ipython3",
   "version": "3.12.4"
  }
 },
 "nbformat": 4,
 "nbformat_minor": 2
}
