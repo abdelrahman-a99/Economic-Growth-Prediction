{
 "cells": [
  {
   "cell_type": "code",
   "execution_count": 1,
   "metadata": {},
   "outputs": [],
   "source": [
    "import rasterio\n",
    "from rasterio.mask import mask\n",
    "from shapely.geometry import box\n",
    "import numpy as np\n",
    "import pandas as pd"
   ]
  },
  {
   "cell_type": "code",
   "execution_count": 2,
   "metadata": {},
   "outputs": [
    {
     "name": "stdout",
     "output_type": "stream",
     "text": [
      "sao paulo boundary boundary found!\n",
      "    shapeName shapeISO                  shapeID shapeGroup shapeType  \\\n",
      "23  Sao Paulo    BR-SP  14911670B46470234103867        BRA      ADM1   \n",
      "\n",
      "                                             geometry  \n",
      "23  POLYGON ((-51.03033 -20.02491, -51.03137 -20.0...  \n"
     ]
    }
   ],
   "source": [
    "# check if sao paolo exist in the geoboundries\n",
    "\n",
    "import geopandas as gpd\n",
    "\n",
    "# Path to the geojson file\n",
    "boundary_file = r\"D:\\NU\\semester_5\\data_analysis\\project\\edited_project\\geoBoundaries-BRA-ADM1-all\\geoBoundaries-BRA-ADM1.geojson\"\n",
    "\n",
    "# Load the GeoJSON file\n",
    "brazil_boundaries = gpd.read_file(boundary_file)\n",
    "\n",
    "city_name_column = \"shapeName\"\n",
    "\n",
    "sao_paulo_boundary = brazil_boundaries[brazil_boundaries[city_name_column] == \"Sao Paulo\"]\n",
    "\n",
    "# Check if the boundary is found\n",
    "if not sao_paulo_boundary.empty:\n",
    "    print(\"sao paulo boundary boundary found!\")\n",
    "else:\n",
    "    raise ValueError(\"sao paulo boundary boundary not found. Check the city name or column.\")\n",
    "\n",
    "sao_paulo_boundary.to_file(\"sao_paulo_boundary.geojson\", driver=\"GeoJSON\")\n",
    "\n",
    "# Print the coordinates of the boundary (or process further as needed)\n",
    "print(sao_paulo_boundary)"
   ]
  },
  {
   "cell_type": "code",
   "execution_count": 5,
   "metadata": {},
   "outputs": [
    {
     "name": "stdout",
     "output_type": "stream",
     "text": [
      "Raster Bounds: BoundingBox(left=-60.00208333335, bottom=-64.99791718665, right=59.99791762665001, top=0.00208333335)\n",
      "sao Bounds: [-53.13444525 -25.34023719 -44.24107085 -19.80947155]\n"
     ]
    },
    {
     "name": "stderr",
     "output_type": "stream",
     "text": [
      "C:\\Users\\PC\\AppData\\Local\\Temp\\ipykernel_8836\\501769821.py:23: DeprecationWarning: The 'unary_union' attribute is deprecated, use the 'union_all()' method instead.\n",
      "  if not raster_bounds.intersects(sao.unary_union):\n"
     ]
    },
    {
     "name": "stdout",
     "output_type": "stream",
     "text": [
      "Extracted data for sao saved to D:\\NU\\semester_5\\data_analysis\\project\\edited_project\\viirs_sao_3_dataset.csv\n"
     ]
    }
   ],
   "source": [
    "# Filepaths\n",
    "\n",
    "# raster_file = r\"D:\\NU\\semester_5\\data_analysis\\project\\edited_project\\SVDNB_npp_20200101-20200131_00N060W_vcmcfg_v10_c202002111500\\SVDNB_npp_20200101-20200131_00N060W_vcmcfg_v10_c202002111500.avg_rade9h.tif\"\n",
    "# raster_file = r\"D:\\NU\\semester_5\\data_analysis\\project\\edited_project\\SVDNB_npp_20200201-20200229_00N060W_vcmcfg_v10_c202003021200\\SVDNB_npp_20200201-20200229_00N060W_vcmcfg_v10_c202003021200.avg_rade9h.tif\"\n",
    "raster_file = r\"D:\\NU\\semester_5\\data_analysis\\project\\edited_project\\SVDNB_npp_20200301-20200331_00N060W_vcmcfg_v10_c202007042300\\SVDNB_npp_20200301-20200331_00N060W_vcmcfg_v10_c202007042300.avg_rade9h.tif\"\n",
    "\n",
    "sao_boundary_file = r\"D:\\NU\\semester_5\\data_analysis\\project\\edited_project\\sao_paulo_boundary.geojson\"\n",
    "\n",
    "# output_csv = r\"D:\\NU\\semester_5\\data_analysis\\project\\edited_project\\viirs_sao_1_dataset.csv\"\n",
    "# output_csv = r\"D:\\NU\\semester_5\\data_analysis\\project\\edited_project\\viirs_sao_2_dataset.csv\"\n",
    "output_csv = r\"D:\\NU\\semester_5\\data_analysis\\project\\edited_project\\viirs_sao_3_dataset.csv\"\n",
    "\n",
    "# Load the Brasília boundary\n",
    "sao = gpd.read_file(sao_boundary_file)\n",
    "sao = sao.to_crs(epsg=4326)\n",
    "\n",
    "# Open the VIIRS raster file\n",
    "with rasterio.open(raster_file) as src:\n",
    "    raster_bounds = box(*src.bounds)\n",
    "    print(\"Raster Bounds:\", src.bounds)\n",
    "    print(\"sao Bounds:\", sao.total_bounds)\n",
    "\n",
    "    if not raster_bounds.intersects(sao.unary_union):\n",
    "        raise ValueError(\"sao's boundary does not overlap with the raster extent.\")\n",
    "\n",
    "    # Clip the VIIRS raster using Brasília boundary\n",
    "    sao_geom_list = [feature[\"geometry\"] for feature in sao.__geo_interface__[\"features\"]]\n",
    "    clipped_raster, clipped_transform = mask(src, sao_geom_list, crop=True)\n",
    "\n",
    "# Extract Raster Values for Brasília\n",
    "light_intensity = clipped_raster[0]\n",
    "rows, cols = np.where(~np.isnan(light_intensity))\n",
    "values = light_intensity[rows, cols]\n",
    "x_coords, y_coords = rasterio.transform.xy(clipped_transform, rows, cols)\n",
    "\n",
    "# Create a DataFrame\n",
    "data = pd.DataFrame({\n",
    "    'longitude': x_coords,\n",
    "    'latitude': y_coords,\n",
    "    'light_intensity': values\n",
    "})\n",
    "\n",
    "# Save the data to a CSV file\n",
    "data.to_csv(output_csv, index=False)\n",
    "print(f\"Extracted data for sao saved to {output_csv}\")\n"
   ]
  },
  {
   "cell_type": "code",
   "execution_count": 1,
   "metadata": {},
   "outputs": [],
   "source": [
    "import pandas as pd"
   ]
  },
  {
   "cell_type": "code",
   "execution_count": 4,
   "metadata": {},
   "outputs": [
    {
     "data": {
      "text/html": [
       "<div>\n",
       "<style scoped>\n",
       "    .dataframe tbody tr th:only-of-type {\n",
       "        vertical-align: middle;\n",
       "    }\n",
       "\n",
       "    .dataframe tbody tr th {\n",
       "        vertical-align: top;\n",
       "    }\n",
       "\n",
       "    .dataframe thead th {\n",
       "        text-align: right;\n",
       "    }\n",
       "</style>\n",
       "<table border=\"1\" class=\"dataframe\">\n",
       "  <thead>\n",
       "    <tr style=\"text-align: right;\">\n",
       "      <th></th>\n",
       "      <th>longitude</th>\n",
       "      <th>latitude</th>\n",
       "      <th>light_intensity</th>\n",
       "    </tr>\n",
       "  </thead>\n",
       "  <tbody>\n",
       "    <tr>\n",
       "      <th>0</th>\n",
       "      <td>-53.133333</td>\n",
       "      <td>-19.808333</td>\n",
       "      <td>0.0</td>\n",
       "    </tr>\n",
       "    <tr>\n",
       "      <th>1</th>\n",
       "      <td>-53.129167</td>\n",
       "      <td>-19.808333</td>\n",
       "      <td>0.0</td>\n",
       "    </tr>\n",
       "    <tr>\n",
       "      <th>2</th>\n",
       "      <td>-53.125000</td>\n",
       "      <td>-19.808333</td>\n",
       "      <td>0.0</td>\n",
       "    </tr>\n",
       "    <tr>\n",
       "      <th>3</th>\n",
       "      <td>-53.120833</td>\n",
       "      <td>-19.808333</td>\n",
       "      <td>0.0</td>\n",
       "    </tr>\n",
       "    <tr>\n",
       "      <th>4</th>\n",
       "      <td>-53.116667</td>\n",
       "      <td>-19.808333</td>\n",
       "      <td>0.0</td>\n",
       "    </tr>\n",
       "  </tbody>\n",
       "</table>\n",
       "</div>"
      ],
      "text/plain": [
       "   longitude   latitude  light_intensity\n",
       "0 -53.133333 -19.808333              0.0\n",
       "1 -53.129167 -19.808333              0.0\n",
       "2 -53.125000 -19.808333              0.0\n",
       "3 -53.120833 -19.808333              0.0\n",
       "4 -53.116667 -19.808333              0.0"
      ]
     },
     "execution_count": 4,
     "metadata": {},
     "output_type": "execute_result"
    }
   ],
   "source": [
    "output_csv = r\"D:\\NU\\semester_5\\data_analysis\\project\\edited_project\\viirs_sao_1_dataset.csv\"\n",
    "\n",
    "df = pd.read_csv(output_csv)\n",
    "df.head()"
   ]
  },
  {
   "cell_type": "code",
   "execution_count": 5,
   "metadata": {},
   "outputs": [
    {
     "data": {
      "text/plain": [
       "array([[<Axes: title={'center': 'longitude'}>,\n",
       "        <Axes: title={'center': 'latitude'}>],\n",
       "       [<Axes: title={'center': 'light_intensity'}>, <Axes: >]],\n",
       "      dtype=object)"
      ]
     },
     "execution_count": 5,
     "metadata": {},
     "output_type": "execute_result"
    },
    {
     "data": {
      "image/png": "[encoded data removed]",
      "text/plain": [
       "<Figure size 640x480 with 4 Axes>"
      ]
     },
     "metadata": {},
     "output_type": "display_data"
    }
   ],
   "source": [
    "df.hist()\n"
   ]
  },
  {
   "cell_type": "code",
   "execution_count": null,
   "metadata": {},
   "outputs": [],
   "source": []
  }
 ],
 "metadata": {
  "kernelspec": {
   "display_name": "Python 3",
   "language": "python",
   "name": "python3"
  },
  "language_info": {
   "codemirror_mode": {
    "name": "ipython",
    "version": 3
   },
   "file_extension": ".py",
   "mimetype": "text/x-python",
   "name": "python",
   "nbconvert_exporter": "python",
   "pygments_lexer": "ipython3",
   "version": "3.12.4"
  }
 },
 "nbformat": 4,
 "nbformat_minor": 2
}
