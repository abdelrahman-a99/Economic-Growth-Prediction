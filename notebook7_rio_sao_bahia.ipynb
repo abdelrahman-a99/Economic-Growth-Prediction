{
 "cells": [
  {
   "cell_type": "code",
   "execution_count": 2,
   "metadata": {},
   "outputs": [],
   "source": [
    "import pandas as pd\n",
    "import os"
   ]
  },
  {
   "cell_type": "code",
   "execution_count": 2,
   "metadata": {},
   "outputs": [
    {
     "name": "stdout",
     "output_type": "stream",
     "text": [
      "Merged dataset saved to D:\\NU\\semester_5\\data_analysis\\project\\edited_project\\viirs_dataset.csv\n"
     ]
    }
   ],
   "source": [
    "# Path to the folder containing the CSV files\n",
    "csv_folder = r\"D:\\NU\\semester_5\\data_analysis\\project\\edited_project\"\n",
    "\n",
    "# Output file\n",
    "output_file = r\"D:\\NU\\semester_5\\data_analysis\\project\\edited_project\\viirs_dataset.csv\"\n",
    "\n",
    "# List of CSV files to merge (all files in the folder)\n",
    "csv_files = [\n",
    "    \"viirs_rio_1_dataset.csv\",\n",
    "    \"viirs_rio_2_dataset.csv\",\n",
    "    \"viirs_rio_3_dataset.csv\",\n",
    "\n",
    "    \"viirs_sao_1_dataset.csv\",\n",
    "    \"viirs_sao_2_dataset.csv\",\n",
    "    \"viirs_sao_3_dataset.csv\",\n",
    "\n",
    "    \"viirs_bahia_1_dataset.csv\",\n",
    "    \"viirs_bahia_2_dataset.csv\",\n",
    "    \"viirs_bahia_3_dataset.csv\"\n",
    "]\n",
    "\n",
    "# Create an empty list to hold DataFrames\n",
    "dataframes = []\n",
    "\n",
    "# Loop through the files and read them\n",
    "for file in csv_files:\n",
    "    file_path = os.path.join(csv_folder, file)\n",
    "    df = pd.read_csv(file_path)\n",
    "\n",
    "    # Extract state, year, and month from the filename\n",
    "    parts = file.split(\"_\")\n",
    "    state = parts[1]  # The second part is the state\n",
    "    month = parts[2]  # The third part is the month\n",
    "\n",
    "    # Add columns for state, year, and month\n",
    "    df[\"state\"] = state\n",
    "    df[\"year\"] = 2020\n",
    "    df[\"month\"] = month\n",
    "\n",
    "    dataframes.append(df)\n",
    "\n",
    "# Concatenate all DataFrames\n",
    "merged_data = pd.concat(dataframes, ignore_index=True)\n",
    "\n",
    "# Save the merged dataset to a CSV file\n",
    "merged_data.to_csv(output_file, index=False)\n",
    "\n",
    "print(f\"Merged dataset saved to {output_file}\")"
   ]
  },
  {
   "cell_type": "code",
   "execution_count": 3,
   "metadata": {},
   "outputs": [
    {
     "name": "stdout",
     "output_type": "stream",
     "text": [
      "   longitude  latitude  light_intensity state  year  month\n",
      "0 -44.925000  -20.8375              0.0   rio  2020      1\n",
      "1 -44.920833  -20.8375              0.0   rio  2020      1\n",
      "2 -44.916667  -20.8375              0.0   rio  2020      1\n",
      "3 -44.912500  -20.8375              0.0   rio  2020      1\n",
      "4 -44.908333  -20.8375              0.0   rio  2020      1\n"
     ]
    }
   ],
   "source": [
    "df = pd.read_csv(r\"D:\\NU\\semester_5\\data_analysis\\project\\edited_project\\viirs_dataset.csv\")\n",
    "print(df.head())"
   ]
  },
  {
   "cell_type": "code",
   "execution_count": 4,
   "metadata": {},
   "outputs": [
    {
     "data": {
      "text/plain": [
       "0"
      ]
     },
     "execution_count": 4,
     "metadata": {},
     "output_type": "execute_result"
    }
   ],
   "source": [
    "df.duplicated().sum()"
   ]
  },
  {
   "cell_type": "code",
   "execution_count": 5,
   "metadata": {},
   "outputs": [
    {
     "name": "stdout",
     "output_type": "stream",
     "text": [
      "Duplicated Rows (Ignoring 'state'):\n",
      "         longitude   latitude  light_intensity state  year  month\n",
      "2317172 -44.920833 -20.837500              0.0   sao  2020      1\n",
      "2317173 -44.916667 -20.837500              0.0   sao  2020      1\n",
      "2317174 -44.912500 -20.837500              0.0   sao  2020      1\n",
      "2317175 -44.908333 -20.837500              0.0   sao  2020      1\n",
      "2317176 -44.904167 -20.837500              0.0   sao  2020      1\n",
      "...            ...        ...              ...   ...   ...    ...\n",
      "9326536 -44.258333 -23.441667              0.0   sao  2020      3\n",
      "9326537 -44.254167 -23.441667              0.0   sao  2020      3\n",
      "9326538 -44.250000 -23.441667              0.0   sao  2020      3\n",
      "9326539 -44.245833 -23.441667              0.0   sao  2020      3\n",
      "9326540 -44.241667 -23.441667              0.0   sao  2020      3\n",
      "\n",
      "[160363 rows x 6 columns]\n",
      "Number of duplicates: 160363\n"
     ]
    }
   ],
   "source": [
    "# Step 1: Drop the 'state' column and check for duplicates\n",
    "duplicated_mask = df.drop(columns=['state']).duplicated()\n",
    "\n",
    "# Step 2: Get the duplicated rows\n",
    "duplicated_rows = df[duplicated_mask]\n",
    "\n",
    "# Step 3: Output the result\n",
    "print(\"Duplicated Rows (Ignoring 'state'):\")\n",
    "print(duplicated_rows)\n",
    "\n",
    "# Step 4: Count of duplicates\n",
    "print(f\"Number of duplicates: {duplicated_rows.shape[0]}\")"
   ]
  },
  {
   "cell_type": "code",
   "execution_count": 6,
   "metadata": {},
   "outputs": [
    {
     "name": "stdout",
     "output_type": "stream",
     "text": [
      "longitude   latitude    year  month\n",
      "-44.920833  -22.979167  2020  1        1\n",
      "            -22.883334  2020  1        1\n",
      "            -22.454167  2020  1        1\n",
      "                              2        1\n",
      "                              3        1\n",
      "                                      ..\n",
      "-44.241667  -20.841667  2020  2        1\n",
      "                              3        1\n",
      "            -20.837500  2020  1        1\n",
      "                              2        1\n",
      "                              3        1\n",
      "Length: 160363, dtype: int64\n"
     ]
    }
   ],
   "source": [
    "# Group and inspect duplicates for further analysis\n",
    "duplicate_summary = duplicated_rows.groupby(['longitude', 'latitude', 'year', 'month']).size()\n",
    "print(duplicate_summary)"
   ]
  },
  {
   "cell_type": "code",
   "execution_count": 7,
   "metadata": {},
   "outputs": [
    {
     "name": "stdout",
     "output_type": "stream",
     "text": [
      "Series([], dtype: int64)\n"
     ]
    }
   ],
   "source": [
    "# Filter locations with more than one duplicate\n",
    "locations_with_duplicates = duplicate_summary[duplicate_summary > 1]\n",
    "print(locations_with_duplicates)"
   ]
  },
  {
   "cell_type": "code",
   "execution_count": 9,
   "metadata": {},
   "outputs": [
    {
     "name": "stdout",
     "output_type": "stream",
     "text": [
      "Series([], Name: state, dtype: int64)\n"
     ]
    }
   ],
   "source": [
    "# Check if 'state' differentiates duplicates\n",
    "unique_states_per_group = duplicated_rows.groupby(['longitude', 'latitude', 'year', 'month'])['state'].nunique()\n",
    "print(unique_states_per_group[unique_states_per_group > 1])"
   ]
  },
  {
   "cell_type": "code",
   "execution_count": 10,
   "metadata": {},
   "outputs": [
    {
     "name": "stdout",
     "output_type": "stream",
     "text": [
      "Number of duplicates per state:\n",
      "state\n",
      "bahia    0\n",
      "rio      0\n",
      "sao      0\n",
      "dtype: int64\n"
     ]
    },
    {
     "name": "stderr",
     "output_type": "stream",
     "text": [
      "C:\\Users\\PC\\AppData\\Local\\Temp\\ipykernel_10656\\2699302351.py:2: DeprecationWarning: DataFrameGroupBy.apply operated on the grouping columns. This behavior is deprecated, and in a future version of pandas the grouping columns will be excluded from the operation. Either pass `include_groups=False` to exclude the groupings or explicitly select the grouping columns after groupby to silence this warning.\n",
      "  duplicates_per_state = df.groupby('state').apply(lambda x: x.duplicated(subset=['longitude', 'latitude', 'year', 'month']).sum())\n"
     ]
    }
   ],
   "source": [
    "# Check duplicates within each state\n",
    "duplicates_per_state = df.groupby('state').apply(lambda x: x.duplicated(subset=['longitude', 'latitude', 'year', 'month']).sum())\n",
    "print(\"Number of duplicates per state:\")\n",
    "print(duplicates_per_state)"
   ]
  },
  {
   "cell_type": "code",
   "execution_count": 11,
   "metadata": {},
   "outputs": [
    {
     "name": "stdout",
     "output_type": "stream",
     "text": [
      "Cross-state duplicates:\n",
      "         longitude   latitude  light_intensity state  year  month\n",
      "1       -44.920833 -20.837500              0.0   rio  2020      1\n",
      "2       -44.916667 -20.837500              0.0   rio  2020      1\n",
      "3       -44.912500 -20.837500              0.0   rio  2020      1\n",
      "4       -44.908333 -20.837500              0.0   rio  2020      1\n",
      "5       -44.904167 -20.837500              0.0   rio  2020      1\n",
      "...            ...        ...              ...   ...   ...    ...\n",
      "9326536 -44.258333 -23.441667              0.0   sao  2020      3\n",
      "9326537 -44.254167 -23.441667              0.0   sao  2020      3\n",
      "9326538 -44.250000 -23.441667              0.0   sao  2020      3\n",
      "9326539 -44.245833 -23.441667              0.0   sao  2020      3\n",
      "9326540 -44.241667 -23.441667              0.0   sao  2020      3\n",
      "\n",
      "[477012 rows x 6 columns]\n"
     ]
    }
   ],
   "source": [
    "# Find rows with cross-state duplicates\n",
    "cross_state_duplicates = df[df.duplicated(subset=['longitude', 'latitude', 'year', 'month'], keep=False)]\n",
    "print(\"Cross-state duplicates:\")\n",
    "print(cross_state_duplicates)"
   ]
  },
  {
   "cell_type": "code",
   "execution_count": 12,
   "metadata": {},
   "outputs": [
    {
     "name": "stdout",
     "output_type": "stream",
     "text": [
      "longitude   latitude    year  month\n",
      "-44.920833  -23.441667  2020  1        2\n",
      "                              2        2\n",
      "                              3        2\n",
      "            -23.437500  2020  1        2\n",
      "                              2        2\n",
      "                                      ..\n",
      "-44.241667  -20.841667  2020  2        2\n",
      "                              3        2\n",
      "            -20.837500  2020  1        2\n",
      "                              2        2\n",
      "                              3        2\n",
      "Name: state, Length: 238506, dtype: int64\n"
     ]
    }
   ],
   "source": [
    "# Inspect distinct states for each duplicate group\n",
    "unique_states_per_group = cross_state_duplicates.groupby(['longitude', 'latitude', 'year', 'month'])['state'].nunique()\n",
    "print(unique_states_per_group[unique_states_per_group > 1])"
   ]
  },
  {
   "cell_type": "code",
   "execution_count": 13,
   "metadata": {},
   "outputs": [
    {
     "name": "stdout",
     "output_type": "stream",
     "text": [
      "Aggregated dataset shape: (238506, 6)\n"
     ]
    }
   ],
   "source": [
    "# Combine states for each duplicate group\n",
    "aggregated_data = cross_state_duplicates.groupby(['longitude', 'latitude', 'year', 'month'], as_index=False).agg({\n",
    "    'light_intensity': 'sum',  # Optionally sum light intensity\n",
    "    'state': ', '.join  # Combine state values into a single string\n",
    "})\n",
    "print(f\"Aggregated dataset shape: {aggregated_data.shape}\")\n"
   ]
  },
  {
   "cell_type": "code",
   "execution_count": 14,
   "metadata": {},
   "outputs": [
    {
     "name": "stdout",
     "output_type": "stream",
     "text": [
      "   longitude   latitude  year  month  light_intensity     state\n",
      "0 -44.920833 -23.441667  2020      1             0.06  rio, sao\n",
      "1 -44.920833 -23.441667  2020      2             0.29  rio, sao\n",
      "2 -44.920833 -23.441667  2020      3             0.23  rio, sao\n",
      "3 -44.920833 -23.437500  2020      1             0.12  rio, sao\n",
      "4 -44.920833 -23.437500  2020      2             0.32  rio, sao\n"
     ]
    }
   ],
   "source": [
    "print(aggregated_data.head())"
   ]
  },
  {
   "cell_type": "code",
   "execution_count": 8,
   "metadata": {},
   "outputs": [
    {
     "data": {
      "image/png": "[encoded data removed]",
      "text/plain": [
       "<Figure size 640x480 with 2 Axes>"
      ]
     },
     "metadata": {},
     "output_type": "display_data"
    }
   ],
   "source": [
    "import matplotlib.pyplot as plt\n",
    "\n",
    "# Plot the number of duplicates by longitude and latitude\n",
    "duplicate_counts = duplicate_summary.reset_index(name='count')\n",
    "plt.scatter(duplicate_counts['longitude'], duplicate_counts['latitude'], c=duplicate_counts['count'], cmap='viridis')\n",
    "plt.colorbar(label='Number of Duplicates')\n",
    "plt.xlabel('Longitude')\n",
    "plt.ylabel('Latitude')\n",
    "plt.title('Distribution of Duplicates')\n",
    "plt.show()\n"
   ]
  },
  {
   "cell_type": "code",
   "execution_count": 15,
   "metadata": {},
   "outputs": [
    {
     "name": "stdout",
     "output_type": "stream",
     "text": [
      "Empty DataFrame\n",
      "Columns: [longitude, latitude, year, month, count]\n",
      "Index: []\n"
     ]
    }
   ],
   "source": [
    "# Filter duplicate groups with count > 1\n",
    "high_density = duplicate_counts[duplicate_counts['count'] > 1]\n",
    "print(high_density)\n"
   ]
  },
  {
   "cell_type": "code",
   "execution_count": null,
   "metadata": {},
   "outputs": [],
   "source": []
  }
 ],
 "metadata": {
  "kernelspec": {
   "display_name": "Python 3",
   "language": "python",
   "name": "python3"
  },
  "language_info": {
   "codemirror_mode": {
    "name": "ipython",
    "version": 3
   },
   "file_extension": ".py",
   "mimetype": "text/x-python",
   "name": "python",
   "nbconvert_exporter": "python",
   "pygments_lexer": "ipython3",
   "version": "3.12.4"
  }
 },
 "nbformat": 4,
 "nbformat_minor": 2
}
