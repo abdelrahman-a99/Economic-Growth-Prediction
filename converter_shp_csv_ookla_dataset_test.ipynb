{
 "cells": [
  {
   "cell_type": "code",
   "execution_count": 1,
   "metadata": {},
   "outputs": [],
   "source": [
    "import geopandas as gpd"
   ]
  },
  {
   "cell_type": "code",
   "execution_count": 2,
   "metadata": {},
   "outputs": [
    {
     "data": {
      "text/html": [
       "<div>\n",
       "<style scoped>\n",
       "    .dataframe tbody tr th:only-of-type {\n",
       "        vertical-align: middle;\n",
       "    }\n",
       "\n",
       "    .dataframe tbody tr th {\n",
       "        vertical-align: top;\n",
       "    }\n",
       "\n",
       "    .dataframe thead th {\n",
       "        text-align: right;\n",
       "    }\n",
       "</style>\n",
       "<table border=\"1\" class=\"dataframe\">\n",
       "  <thead>\n",
       "    <tr style=\"text-align: right;\">\n",
       "      <th></th>\n",
       "      <th>quadkey</th>\n",
       "      <th>avg_d_kbps</th>\n",
       "      <th>avg_u_kbps</th>\n",
       "      <th>avg_lat_ms</th>\n",
       "      <th>tests</th>\n",
       "      <th>devices</th>\n",
       "      <th>geometry</th>\n",
       "    </tr>\n",
       "  </thead>\n",
       "  <tbody>\n",
       "    <tr>\n",
       "      <th>0</th>\n",
       "      <td>0022133222312322</td>\n",
       "      <td>5227</td>\n",
       "      <td>2449</td>\n",
       "      <td>54</td>\n",
       "      <td>2</td>\n",
       "      <td>2</td>\n",
       "      <td>POLYGON ((-160.02686 70.64359, -160.02136 70.6...</td>\n",
       "    </tr>\n",
       "    <tr>\n",
       "      <th>1</th>\n",
       "      <td>0022133222330010</td>\n",
       "      <td>9529</td>\n",
       "      <td>3214</td>\n",
       "      <td>44</td>\n",
       "      <td>1</td>\n",
       "      <td>1</td>\n",
       "      <td>POLYGON ((-160.03784 70.64177, -160.03235 70.6...</td>\n",
       "    </tr>\n",
       "    <tr>\n",
       "      <th>2</th>\n",
       "      <td>0022133222330011</td>\n",
       "      <td>9392</td>\n",
       "      <td>3390</td>\n",
       "      <td>42</td>\n",
       "      <td>1</td>\n",
       "      <td>1</td>\n",
       "      <td>POLYGON ((-160.03235 70.64177, -160.02686 70.6...</td>\n",
       "    </tr>\n",
       "    <tr>\n",
       "      <th>3</th>\n",
       "      <td>0022133222330013</td>\n",
       "      <td>961</td>\n",
       "      <td>723</td>\n",
       "      <td>50</td>\n",
       "      <td>2</td>\n",
       "      <td>1</td>\n",
       "      <td>POLYGON ((-160.03235 70.63995, -160.02686 70.6...</td>\n",
       "    </tr>\n",
       "    <tr>\n",
       "      <th>4</th>\n",
       "      <td>0022133222330023</td>\n",
       "      <td>6547</td>\n",
       "      <td>3135</td>\n",
       "      <td>46</td>\n",
       "      <td>5</td>\n",
       "      <td>3</td>\n",
       "      <td>POLYGON ((-160.04333 70.63631, -160.03784 70.6...</td>\n",
       "    </tr>\n",
       "  </tbody>\n",
       "</table>\n",
       "</div>"
      ],
      "text/plain": [
       "            quadkey  avg_d_kbps  avg_u_kbps  avg_lat_ms  tests  devices  \\\n",
       "0  0022133222312322        5227        2449          54      2        2   \n",
       "1  0022133222330010        9529        3214          44      1        1   \n",
       "2  0022133222330011        9392        3390          42      1        1   \n",
       "3  0022133222330013         961         723          50      2        1   \n",
       "4  0022133222330023        6547        3135          46      5        3   \n",
       "\n",
       "                                            geometry  \n",
       "0  POLYGON ((-160.02686 70.64359, -160.02136 70.6...  \n",
       "1  POLYGON ((-160.03784 70.64177, -160.03235 70.6...  \n",
       "2  POLYGON ((-160.03235 70.64177, -160.02686 70.6...  \n",
       "3  POLYGON ((-160.03235 70.63995, -160.02686 70.6...  \n",
       "4  POLYGON ((-160.04333 70.63631, -160.03784 70.6...  "
      ]
     },
     "execution_count": 2,
     "metadata": {},
     "output_type": "execute_result"
    }
   ],
   "source": [
    "shapefile_path = r\"D:\\NU\\semester_5\\data_analysis\\project\\edited_project\\2020-01-01_performance_fixed_tiles\\gps_fixed_tiles.shp\"\n",
    "\n",
    "gdf = gpd.read_file(shapefile_path)\n",
    "gdf.head()"
   ]
  },
  {
   "cell_type": "code",
   "execution_count": 3,
   "metadata": {},
   "outputs": [
    {
     "name": "stdout",
     "output_type": "stream",
     "text": [
      "Shapefile converted to CSV and saved as Ookla_dataset.csv\n"
     ]
    }
   ],
   "source": [
    "output_csv_path = \"Ookla_dataset.csv\"\n",
    "gdf.to_csv(output_csv_path, index=False)\n",
    "\n",
    "print(f\"Shapefile converted to CSV and saved as {output_csv_path}\")"
   ]
  }
 ],
 "metadata": {
  "kernelspec": {
   "display_name": "Python 3",
   "language": "python",
   "name": "python3"
  },
  "language_info": {
   "codemirror_mode": {
    "name": "ipython",
    "version": 3
   },
   "file_extension": ".py",
   "mimetype": "text/x-python",
   "name": "python",
   "nbconvert_exporter": "python",
   "pygments_lexer": "ipython3",
   "version": "3.12.4"
  }
 },
 "nbformat": 4,
 "nbformat_minor": 2
}
