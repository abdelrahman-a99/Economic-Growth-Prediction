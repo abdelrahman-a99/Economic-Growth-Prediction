{
 "cells": [
  {
   "cell_type": "code",
   "execution_count": 1,
   "metadata": {},
   "outputs": [],
   "source": [
    "import pandas as pd"
   ]
  },
  {
   "cell_type": "code",
   "execution_count": 2,
   "metadata": {},
   "outputs": [],
   "source": [
    "viirs_cleaned_df = pd.read_csv('viirs_cleaned_dataset.csv')"
   ]
  },
  {
   "cell_type": "code",
   "execution_count": 3,
   "metadata": {},
   "outputs": [
    {
     "data": {
      "text/html": [
       "<div>\n",
       "<style scoped>\n",
       "    .dataframe tbody tr th:only-of-type {\n",
       "        vertical-align: middle;\n",
       "    }\n",
       "\n",
       "    .dataframe tbody tr th {\n",
       "        vertical-align: top;\n",
       "    }\n",
       "\n",
       "    .dataframe thead th {\n",
       "        text-align: right;\n",
       "    }\n",
       "</style>\n",
       "<table border=\"1\" class=\"dataframe\">\n",
       "  <thead>\n",
       "    <tr style=\"text-align: right;\">\n",
       "      <th></th>\n",
       "      <th>longitude</th>\n",
       "      <th>latitude</th>\n",
       "      <th>light_intensity</th>\n",
       "      <th>state</th>\n",
       "      <th>year</th>\n",
       "      <th>month</th>\n",
       "    </tr>\n",
       "  </thead>\n",
       "  <tbody>\n",
       "    <tr>\n",
       "      <th>0</th>\n",
       "      <td>-41.908333</td>\n",
       "      <td>-20.8375</td>\n",
       "      <td>0.18</td>\n",
       "      <td>rio</td>\n",
       "      <td>2020</td>\n",
       "      <td>1</td>\n",
       "    </tr>\n",
       "    <tr>\n",
       "      <th>1</th>\n",
       "      <td>-41.904167</td>\n",
       "      <td>-20.8375</td>\n",
       "      <td>0.23</td>\n",
       "      <td>rio</td>\n",
       "      <td>2020</td>\n",
       "      <td>1</td>\n",
       "    </tr>\n",
       "    <tr>\n",
       "      <th>2</th>\n",
       "      <td>-41.900000</td>\n",
       "      <td>-20.8375</td>\n",
       "      <td>0.20</td>\n",
       "      <td>rio</td>\n",
       "      <td>2020</td>\n",
       "      <td>1</td>\n",
       "    </tr>\n",
       "    <tr>\n",
       "      <th>3</th>\n",
       "      <td>-41.895833</td>\n",
       "      <td>-20.8375</td>\n",
       "      <td>0.21</td>\n",
       "      <td>rio</td>\n",
       "      <td>2020</td>\n",
       "      <td>1</td>\n",
       "    </tr>\n",
       "    <tr>\n",
       "      <th>4</th>\n",
       "      <td>-41.891667</td>\n",
       "      <td>-20.8375</td>\n",
       "      <td>0.24</td>\n",
       "      <td>rio</td>\n",
       "      <td>2020</td>\n",
       "      <td>1</td>\n",
       "    </tr>\n",
       "  </tbody>\n",
       "</table>\n",
       "</div>"
      ],
      "text/plain": [
       "   longitude  latitude  light_intensity state  year  month\n",
       "0 -41.908333  -20.8375             0.18   rio  2020      1\n",
       "1 -41.904167  -20.8375             0.23   rio  2020      1\n",
       "2 -41.900000  -20.8375             0.20   rio  2020      1\n",
       "3 -41.895833  -20.8375             0.21   rio  2020      1\n",
       "4 -41.891667  -20.8375             0.24   rio  2020      1"
      ]
     },
     "execution_count": 3,
     "metadata": {},
     "output_type": "execute_result"
    }
   ],
   "source": [
    "viirs_cleaned_df.head()"
   ]
  },
  {
   "cell_type": "code",
   "execution_count": 4,
   "metadata": {},
   "outputs": [
    {
     "data": {
      "text/html": [
       "<div>\n",
       "<style scoped>\n",
       "    .dataframe tbody tr th:only-of-type {\n",
       "        vertical-align: middle;\n",
       "    }\n",
       "\n",
       "    .dataframe tbody tr th {\n",
       "        vertical-align: top;\n",
       "    }\n",
       "\n",
       "    .dataframe thead th {\n",
       "        text-align: right;\n",
       "    }\n",
       "</style>\n",
       "<table border=\"1\" class=\"dataframe\">\n",
       "  <thead>\n",
       "    <tr style=\"text-align: right;\">\n",
       "      <th></th>\n",
       "      <th>longitude</th>\n",
       "      <th>latitude</th>\n",
       "      <th>light_intensity</th>\n",
       "      <th>state</th>\n",
       "      <th>year</th>\n",
       "      <th>month</th>\n",
       "    </tr>\n",
       "  </thead>\n",
       "  <tbody>\n",
       "    <tr>\n",
       "      <th>12294358</th>\n",
       "      <td>-39.662500</td>\n",
       "      <td>-18.3125</td>\n",
       "      <td>0.45</td>\n",
       "      <td>bahia</td>\n",
       "      <td>2020</td>\n",
       "      <td>3</td>\n",
       "    </tr>\n",
       "    <tr>\n",
       "      <th>12294359</th>\n",
       "      <td>-39.658333</td>\n",
       "      <td>-18.3125</td>\n",
       "      <td>0.70</td>\n",
       "      <td>bahia</td>\n",
       "      <td>2020</td>\n",
       "      <td>3</td>\n",
       "    </tr>\n",
       "    <tr>\n",
       "      <th>12294360</th>\n",
       "      <td>-39.654167</td>\n",
       "      <td>-18.3125</td>\n",
       "      <td>0.51</td>\n",
       "      <td>bahia</td>\n",
       "      <td>2020</td>\n",
       "      <td>3</td>\n",
       "    </tr>\n",
       "    <tr>\n",
       "      <th>12294361</th>\n",
       "      <td>-39.650000</td>\n",
       "      <td>-18.3125</td>\n",
       "      <td>0.37</td>\n",
       "      <td>bahia</td>\n",
       "      <td>2020</td>\n",
       "      <td>3</td>\n",
       "    </tr>\n",
       "    <tr>\n",
       "      <th>12294362</th>\n",
       "      <td>-39.645833</td>\n",
       "      <td>-18.3125</td>\n",
       "      <td>0.29</td>\n",
       "      <td>bahia</td>\n",
       "      <td>2020</td>\n",
       "      <td>3</td>\n",
       "    </tr>\n",
       "  </tbody>\n",
       "</table>\n",
       "</div>"
      ],
      "text/plain": [
       "          longitude  latitude  light_intensity  state  year  month\n",
       "12294358 -39.662500  -18.3125             0.45  bahia  2020      3\n",
       "12294359 -39.658333  -18.3125             0.70  bahia  2020      3\n",
       "12294360 -39.654167  -18.3125             0.51  bahia  2020      3\n",
       "12294361 -39.650000  -18.3125             0.37  bahia  2020      3\n",
       "12294362 -39.645833  -18.3125             0.29  bahia  2020      3"
      ]
     },
     "execution_count": 4,
     "metadata": {},
     "output_type": "execute_result"
    }
   ],
   "source": [
    "viirs_cleaned_df.tail()"
   ]
  },
  {
   "cell_type": "code",
   "execution_count": 5,
   "metadata": {},
   "outputs": [
    {
     "data": {
      "text/plain": [
       "(12294363, 6)"
      ]
     },
     "execution_count": 5,
     "metadata": {},
     "output_type": "execute_result"
    }
   ],
   "source": [
    "viirs_cleaned_df.shape"
   ]
  },
  {
   "cell_type": "code",
   "execution_count": 6,
   "metadata": {},
   "outputs": [
    {
     "data": {
      "text/plain": [
       "73766178"
      ]
     },
     "execution_count": 6,
     "metadata": {},
     "output_type": "execute_result"
    }
   ],
   "source": [
    "viirs_cleaned_df.size"
   ]
  },
  {
   "cell_type": "code",
   "execution_count": 7,
   "metadata": {},
   "outputs": [
    {
     "data": {
      "text/plain": [
       "12294363"
      ]
     },
     "execution_count": 7,
     "metadata": {},
     "output_type": "execute_result"
    }
   ],
   "source": [
    "len(viirs_cleaned_df)"
   ]
  },
  {
   "cell_type": "code",
   "execution_count": 8,
   "metadata": {},
   "outputs": [
    {
     "data": {
      "text/plain": [
       "Index(['longitude', 'latitude', 'light_intensity', 'state', 'year', 'month'], dtype='object')"
      ]
     },
     "execution_count": 8,
     "metadata": {},
     "output_type": "execute_result"
    }
   ],
   "source": [
    "viirs_cleaned_df.columns"
   ]
  },
  {
   "cell_type": "code",
   "execution_count": 9,
   "metadata": {},
   "outputs": [
    {
     "data": {
      "text/plain": [
       "longitude          float64\n",
       "latitude           float64\n",
       "light_intensity    float64\n",
       "state               object\n",
       "year                 int64\n",
       "month                int64\n",
       "dtype: object"
      ]
     },
     "execution_count": 9,
     "metadata": {},
     "output_type": "execute_result"
    }
   ],
   "source": [
    "viirs_cleaned_df.dtypes"
   ]
  },
  {
   "cell_type": "code",
   "execution_count": 10,
   "metadata": {},
   "outputs": [
    {
     "name": "stdout",
     "output_type": "stream",
     "text": [
      "<class 'pandas.core.frame.DataFrame'>\n",
      "RangeIndex: 12294363 entries, 0 to 12294362\n",
      "Data columns (total 6 columns):\n",
      " #   Column           Dtype  \n",
      "---  ------           -----  \n",
      " 0   longitude        float64\n",
      " 1   latitude         float64\n",
      " 2   light_intensity  float64\n",
      " 3   state            object \n",
      " 4   year             int64  \n",
      " 5   month            int64  \n",
      "dtypes: float64(3), int64(2), object(1)\n",
      "memory usage: 562.8+ MB\n"
     ]
    }
   ],
   "source": [
    "viirs_cleaned_df.info()"
   ]
  },
  {
   "cell_type": "code",
   "execution_count": 11,
   "metadata": {},
   "outputs": [
    {
     "data": {
      "text/html": [
       "<div>\n",
       "<style scoped>\n",
       "    .dataframe tbody tr th:only-of-type {\n",
       "        vertical-align: middle;\n",
       "    }\n",
       "\n",
       "    .dataframe tbody tr th {\n",
       "        vertical-align: top;\n",
       "    }\n",
       "\n",
       "    .dataframe thead th {\n",
       "        text-align: right;\n",
       "    }\n",
       "</style>\n",
       "<table border=\"1\" class=\"dataframe\">\n",
       "  <thead>\n",
       "    <tr style=\"text-align: right;\">\n",
       "      <th></th>\n",
       "      <th>longitude</th>\n",
       "      <th>latitude</th>\n",
       "      <th>light_intensity</th>\n",
       "      <th>year</th>\n",
       "      <th>month</th>\n",
       "    </tr>\n",
       "  </thead>\n",
       "  <tbody>\n",
       "    <tr>\n",
       "      <th>count</th>\n",
       "      <td>1.229436e+07</td>\n",
       "      <td>1.229436e+07</td>\n",
       "      <td>1.229436e+07</td>\n",
       "      <td>12294363.0</td>\n",
       "      <td>1.229436e+07</td>\n",
       "    </tr>\n",
       "    <tr>\n",
       "      <th>mean</th>\n",
       "      <td>-4.385499e+01</td>\n",
       "      <td>-1.601142e+01</td>\n",
       "      <td>9.836670e-01</td>\n",
       "      <td>2020.0</td>\n",
       "      <td>2.025935e+00</td>\n",
       "    </tr>\n",
       "    <tr>\n",
       "      <th>std</th>\n",
       "      <td>3.845472e+00</td>\n",
       "      <td>5.019361e+00</td>\n",
       "      <td>7.023163e+00</td>\n",
       "      <td>0.0</td>\n",
       "      <td>8.121967e-01</td>\n",
       "    </tr>\n",
       "    <tr>\n",
       "      <th>min</th>\n",
       "      <td>-5.313333e+01</td>\n",
       "      <td>-2.533750e+01</td>\n",
       "      <td>1.000000e-02</td>\n",
       "      <td>2020.0</td>\n",
       "      <td>1.000000e+00</td>\n",
       "    </tr>\n",
       "    <tr>\n",
       "      <th>25%</th>\n",
       "      <td>-4.717917e+01</td>\n",
       "      <td>-2.167500e+01</td>\n",
       "      <td>2.400000e-01</td>\n",
       "      <td>2020.0</td>\n",
       "      <td>1.000000e+00</td>\n",
       "    </tr>\n",
       "    <tr>\n",
       "      <th>50%</th>\n",
       "      <td>-4.312917e+01</td>\n",
       "      <td>-1.405417e+01</td>\n",
       "      <td>3.400000e-01</td>\n",
       "      <td>2020.0</td>\n",
       "      <td>2.000000e+00</td>\n",
       "    </tr>\n",
       "    <tr>\n",
       "      <th>75%</th>\n",
       "      <td>-4.053333e+01</td>\n",
       "      <td>-1.173333e+01</td>\n",
       "      <td>4.500000e-01</td>\n",
       "      <td>2020.0</td>\n",
       "      <td>3.000000e+00</td>\n",
       "    </tr>\n",
       "    <tr>\n",
       "      <th>max</th>\n",
       "      <td>-3.735417e+01</td>\n",
       "      <td>-8.570833e+00</td>\n",
       "      <td>7.904140e+03</td>\n",
       "      <td>2020.0</td>\n",
       "      <td>3.000000e+00</td>\n",
       "    </tr>\n",
       "  </tbody>\n",
       "</table>\n",
       "</div>"
      ],
      "text/plain": [
       "          longitude      latitude  light_intensity        year         month\n",
       "count  1.229436e+07  1.229436e+07     1.229436e+07  12294363.0  1.229436e+07\n",
       "mean  -4.385499e+01 -1.601142e+01     9.836670e-01      2020.0  2.025935e+00\n",
       "std    3.845472e+00  5.019361e+00     7.023163e+00         0.0  8.121967e-01\n",
       "min   -5.313333e+01 -2.533750e+01     1.000000e-02      2020.0  1.000000e+00\n",
       "25%   -4.717917e+01 -2.167500e+01     2.400000e-01      2020.0  1.000000e+00\n",
       "50%   -4.312917e+01 -1.405417e+01     3.400000e-01      2020.0  2.000000e+00\n",
       "75%   -4.053333e+01 -1.173333e+01     4.500000e-01      2020.0  3.000000e+00\n",
       "max   -3.735417e+01 -8.570833e+00     7.904140e+03      2020.0  3.000000e+00"
      ]
     },
     "execution_count": 11,
     "metadata": {},
     "output_type": "execute_result"
    }
   ],
   "source": [
    "viirs_cleaned_df.describe()"
   ]
  },
  {
   "cell_type": "code",
   "execution_count": 12,
   "metadata": {},
   "outputs": [
    {
     "data": {
      "text/plain": [
       "<Axes: ylabel='Frequency'>"
      ]
     },
     "execution_count": 12,
     "metadata": {},
     "output_type": "execute_result"
    },
    {
     "data": {
      "image/png": "[encoded data removed]",
      "text/plain": [
       "<Figure size 640x480 with 1 Axes>"
      ]
     },
     "metadata": {},
     "output_type": "display_data"
    }
   ],
   "source": [
    "light = viirs_cleaned_df['light_intensity']\n",
    "light.plot.hist()"
   ]
  },
  {
   "cell_type": "code",
   "execution_count": 13,
   "metadata": {},
   "outputs": [
    {
     "data": {
      "text/plain": [
       "<Axes: ylabel='Frequency'>"
      ]
     },
     "execution_count": 13,
     "metadata": {},
     "output_type": "execute_result"
    },
    {
     "data": {
      "image/png": "[encoded data removed]",
      "text/plain": [
       "<Figure size 640x480 with 1 Axes>"
      ]
     },
     "metadata": {},
     "output_type": "display_data"
    }
   ],
   "source": [
    "sample = light.sample(500)\n",
    "sample.plot.hist()"
   ]
  },
  {
   "cell_type": "code",
   "execution_count": 14,
   "metadata": {},
   "outputs": [
    {
     "data": {
      "text/plain": [
       "longitude          0\n",
       "latitude           0\n",
       "light_intensity    0\n",
       "state              0\n",
       "year               0\n",
       "month              0\n",
       "dtype: int64"
      ]
     },
     "execution_count": 14,
     "metadata": {},
     "output_type": "execute_result"
    }
   ],
   "source": [
    "viirs_cleaned_df.isnull().sum()"
   ]
  },
  {
   "cell_type": "code",
   "execution_count": 15,
   "metadata": {},
   "outputs": [
    {
     "data": {
      "text/plain": [
       "longitude          0\n",
       "latitude           0\n",
       "light_intensity    0\n",
       "state              0\n",
       "year               0\n",
       "month              0\n",
       "dtype: int64"
      ]
     },
     "execution_count": 15,
     "metadata": {},
     "output_type": "execute_result"
    }
   ],
   "source": [
    "viirs_cleaned_df.isna().sum()"
   ]
  },
  {
   "cell_type": "code",
   "execution_count": 16,
   "metadata": {},
   "outputs": [
    {
     "data": {
      "text/plain": [
       "0"
      ]
     },
     "execution_count": 16,
     "metadata": {},
     "output_type": "execute_result"
    }
   ],
   "source": [
    "viirs_cleaned_df.duplicated().sum()"
   ]
  },
  {
   "cell_type": "code",
   "execution_count": 17,
   "metadata": {},
   "outputs": [],
   "source": [
    "# do not run this cell after removing duplications \n",
    "\n",
    "# duplicated_rows = viirs_cleaned_df[viirs_cleaned_df.duplicated(keep=False)]\n",
    "\n",
    "# sample_of_duplicates = duplicated_rows.sample(n=10, random_state=42)\n",
    "# print(sample_of_duplicates)"
   ]
  },
  {
   "cell_type": "code",
   "execution_count": 18,
   "metadata": {},
   "outputs": [
    {
     "data": {
      "text/plain": [
       "array([[<Axes: title={'center': 'longitude'}>,\n",
       "        <Axes: title={'center': 'latitude'}>],\n",
       "       [<Axes: title={'center': 'light_intensity'}>,\n",
       "        <Axes: title={'center': 'year'}>],\n",
       "       [<Axes: title={'center': 'month'}>, <Axes: >]], dtype=object)"
      ]
     },
     "execution_count": 18,
     "metadata": {},
     "output_type": "execute_result"
    },
    {
     "data": {
      "image/png": "[encoded data removed]",
      "text/plain": [
       "<Figure size 1500x1500 with 6 Axes>"
      ]
     },
     "metadata": {},
     "output_type": "display_data"
    }
   ],
   "source": [
    "viirs_cleaned_df.hist(figsize=(15,15))"
   ]
  },
  {
   "cell_type": "code",
   "execution_count": 19,
   "metadata": {},
   "outputs": [
    {
     "name": "stdout",
     "output_type": "stream",
     "text": [
      "Number of zeroes in the column 'light_intensity': 0\n"
     ]
    }
   ],
   "source": [
    "zero_count = (viirs_cleaned_df['light_intensity'] == 0).sum()\n",
    "\n",
    "print(f\"Number of zeroes in the column 'light_intensity': {zero_count}\")"
   ]
  },
  {
   "cell_type": "code",
   "execution_count": 20,
   "metadata": {},
   "outputs": [
    {
     "name": "stdout",
     "output_type": "stream",
     "text": [
      "Number of negative values in the column 'light_intensity': 0\n"
     ]
    }
   ],
   "source": [
    "neg_count = (viirs_cleaned_df['light_intensity'] < 0).sum()\n",
    "\n",
    "print(f\"Number of negative values in the column 'light_intensity': {neg_count}\")"
   ]
  },
  {
   "cell_type": "code",
   "execution_count": 21,
   "metadata": {},
   "outputs": [
    {
     "name": "stdout",
     "output_type": "stream",
     "text": [
      "Number of positive values in the column 'light_intensity': 12294363\n"
     ]
    }
   ],
   "source": [
    "pos_count = (viirs_cleaned_df['light_intensity'] > 0).sum()\n",
    "\n",
    "print(f\"Number of positive values in the column 'light_intensity': {pos_count}\")"
   ]
  },
  {
   "cell_type": "code",
   "execution_count": 22,
   "metadata": {},
   "outputs": [],
   "source": [
    "# # # approach 1\n",
    "# # total_radiance = viirs_cleaned_df['light_intensity'].sum()\n",
    "# # viirs_cleaned_df['radiance_pct_change'] = (viirs_cleaned_df['light_intensity'] / total_radiance) * 100\n",
    "\n",
    "# # viirs_cleaned_df = viirs_cleaned_df[viirs_cleaned_df['radiance_pct_change'] > 0]\n",
    "\n",
    "# # viirs_cleaned_df = viirs_cleaned_df.drop_duplicates()\n",
    "\n",
    "# # print(viirs_cleaned_df.head())\n",
    "\n",
    "# # =====================================================================================\n",
    "\n",
    "# # approach 2\n",
    "# viirs_cleaned_df['radiance_pct_change'] = viirs_cleaned_df.groupby(['state', 'month'])['light_intensity'].pct_change() * 100\n",
    "\n",
    "# viirs_cleaned_df = viirs_cleaned_df[viirs_cleaned_df['radiance_pct_change'] > 0]\n",
    "\n",
    "# viirs_cleaned_df = viirs_cleaned_df.drop_duplicates()\n",
    "\n",
    "# print(viirs_cleaned_df.head())\n",
    "\n",
    "# # =====================================================================================\n",
    "\n",
    "# # # approach 3\n",
    "# # viirs_cleaned_df['radiance_pct_change'] = viirs_cleaned_df.groupby(['state', 'month'])['light_intensity'].pct_change().fillna(0)"
   ]
  },
  {
   "cell_type": "code",
   "execution_count": 23,
   "metadata": {},
   "outputs": [
    {
     "data": {
      "text/plain": [
       "0"
      ]
     },
     "execution_count": 23,
     "metadata": {},
     "output_type": "execute_result"
    }
   ],
   "source": [
    "viirs_cleaned_df.duplicated().sum()"
   ]
  },
  {
   "cell_type": "code",
   "execution_count": 24,
   "metadata": {},
   "outputs": [
    {
     "name": "stdout",
     "output_type": "stream",
     "text": [
      "<class 'pandas.core.frame.DataFrame'>\n",
      "RangeIndex: 12294363 entries, 0 to 12294362\n",
      "Data columns (total 6 columns):\n",
      " #   Column           Dtype  \n",
      "---  ------           -----  \n",
      " 0   longitude        float64\n",
      " 1   latitude         float64\n",
      " 2   light_intensity  float64\n",
      " 3   state            object \n",
      " 4   year             int64  \n",
      " 5   month            int64  \n",
      "dtypes: float64(3), int64(2), object(1)\n",
      "memory usage: 562.8+ MB\n"
     ]
    }
   ],
   "source": [
    "viirs_cleaned_df.info()"
   ]
  },
  {
   "cell_type": "code",
   "execution_count": 25,
   "metadata": {},
   "outputs": [],
   "source": [
    "# viirs_cleaned_df['radiance_pct_change'].describe()"
   ]
  },
  {
   "cell_type": "code",
   "execution_count": 26,
   "metadata": {},
   "outputs": [
    {
     "data": {
      "text/plain": [
       "count    1.229436e+07\n",
       "mean     9.836670e-01\n",
       "std      7.023163e+00\n",
       "min      1.000000e-02\n",
       "25%      2.400000e-01\n",
       "50%      3.400000e-01\n",
       "75%      4.500000e-01\n",
       "max      7.904140e+03\n",
       "Name: light_intensity, dtype: float64"
      ]
     },
     "execution_count": 26,
     "metadata": {},
     "output_type": "execute_result"
    }
   ],
   "source": [
    "viirs_cleaned_df['light_intensity'].describe()"
   ]
  },
  {
   "cell_type": "code",
   "execution_count": 27,
   "metadata": {},
   "outputs": [
    {
     "data": {
      "text/html": [
       "<div>\n",
       "<style scoped>\n",
       "    .dataframe tbody tr th:only-of-type {\n",
       "        vertical-align: middle;\n",
       "    }\n",
       "\n",
       "    .dataframe tbody tr th {\n",
       "        vertical-align: top;\n",
       "    }\n",
       "\n",
       "    .dataframe thead th {\n",
       "        text-align: right;\n",
       "    }\n",
       "</style>\n",
       "<table border=\"1\" class=\"dataframe\">\n",
       "  <thead>\n",
       "    <tr style=\"text-align: right;\">\n",
       "      <th></th>\n",
       "      <th>longitude</th>\n",
       "      <th>latitude</th>\n",
       "      <th>light_intensity</th>\n",
       "      <th>state</th>\n",
       "      <th>year</th>\n",
       "      <th>month</th>\n",
       "    </tr>\n",
       "  </thead>\n",
       "  <tbody>\n",
       "    <tr>\n",
       "      <th>0</th>\n",
       "      <td>-41.908333</td>\n",
       "      <td>-20.8375</td>\n",
       "      <td>0.18</td>\n",
       "      <td>rio</td>\n",
       "      <td>2020</td>\n",
       "      <td>1</td>\n",
       "    </tr>\n",
       "    <tr>\n",
       "      <th>1</th>\n",
       "      <td>-41.904167</td>\n",
       "      <td>-20.8375</td>\n",
       "      <td>0.23</td>\n",
       "      <td>rio</td>\n",
       "      <td>2020</td>\n",
       "      <td>1</td>\n",
       "    </tr>\n",
       "    <tr>\n",
       "      <th>2</th>\n",
       "      <td>-41.900000</td>\n",
       "      <td>-20.8375</td>\n",
       "      <td>0.20</td>\n",
       "      <td>rio</td>\n",
       "      <td>2020</td>\n",
       "      <td>1</td>\n",
       "    </tr>\n",
       "    <tr>\n",
       "      <th>3</th>\n",
       "      <td>-41.895833</td>\n",
       "      <td>-20.8375</td>\n",
       "      <td>0.21</td>\n",
       "      <td>rio</td>\n",
       "      <td>2020</td>\n",
       "      <td>1</td>\n",
       "    </tr>\n",
       "    <tr>\n",
       "      <th>4</th>\n",
       "      <td>-41.891667</td>\n",
       "      <td>-20.8375</td>\n",
       "      <td>0.24</td>\n",
       "      <td>rio</td>\n",
       "      <td>2020</td>\n",
       "      <td>1</td>\n",
       "    </tr>\n",
       "  </tbody>\n",
       "</table>\n",
       "</div>"
      ],
      "text/plain": [
       "   longitude  latitude  light_intensity state  year  month\n",
       "0 -41.908333  -20.8375             0.18   rio  2020      1\n",
       "1 -41.904167  -20.8375             0.23   rio  2020      1\n",
       "2 -41.900000  -20.8375             0.20   rio  2020      1\n",
       "3 -41.895833  -20.8375             0.21   rio  2020      1\n",
       "4 -41.891667  -20.8375             0.24   rio  2020      1"
      ]
     },
     "execution_count": 27,
     "metadata": {},
     "output_type": "execute_result"
    }
   ],
   "source": [
    "viirs_cleaned_df.head()"
   ]
  },
  {
   "cell_type": "code",
   "execution_count": 28,
   "metadata": {},
   "outputs": [],
   "source": [
    "viirs_cleaned_df.to_csv('viirs_cleaned_dataset.csv', index=False)"
   ]
  },
  {
   "cell_type": "code",
   "execution_count": null,
   "metadata": {},
   "outputs": [],
   "source": []
  }
 ],
 "metadata": {
  "kernelspec": {
   "display_name": "Python 3",
   "language": "python",
   "name": "python3"
  },
  "language_info": {
   "codemirror_mode": {
    "name": "ipython",
    "version": 3
   },
   "file_extension": ".py",
   "mimetype": "text/x-python",
   "name": "python",
   "nbconvert_exporter": "python",
   "pygments_lexer": "ipython3",
   "version": "3.12.4"
  }
 },
 "nbformat": 4,
 "nbformat_minor": 2
}
